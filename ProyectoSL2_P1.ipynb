{
  "nbformat": 4,
  "nbformat_minor": 0,
  "metadata": {
    "colab": {
      "name": "ProyectoSL2-P1.ipynb",
      "provenance": [],
      "collapsed_sections": [],
      "include_colab_link": true
    },
    "kernelspec": {
      "name": "python3",
      "display_name": "Python 3"
    },
    "accelerator": "GPU"
  },
  "cells": [
    {
      "cell_type": "markdown",
      "metadata": {
        "id": "view-in-github",
        "colab_type": "text"
      },
      "source": [
        "<a href=\"https://colab.research.google.com/github/kenny08gt/proyecto_statistical_learning2/blob/master/ProyectoSL2_P1.ipynb\" target=\"_parent\"><img src=\"https://colab.research.google.com/assets/colab-badge.svg\" alt=\"Open In Colab\"/></a>"
      ]
    },
    {
      "cell_type": "code",
      "metadata": {
        "id": "U-Pygh--QkZT",
        "colab_type": "code",
        "outputId": "3ad5687a-154f-468e-b9e5-83d89741c76f",
        "colab": {
          "base_uri": "https://localhost:8080/",
          "height": 314
        }
      },
      "source": [
        "import numpy as np\n",
        "import pandas as pd\n",
        "import matplotlib.pyplot as plt\n",
        "import matplotlib\n",
        "import seaborn as sns\n",
        "import torch.nn as nn\n",
        "import torch.nn.functional as F\n",
        "import torch\n",
        "import math\n",
        "\n",
        "%reload_ext autoreload\n",
        "%autoreload 2\n",
        "%matplotlib inline\n",
        "\n",
        "from google.colab import drive\n",
        "drive.mount('/content/drive')\n",
        "\n",
        "# device = 'cuda' if torch.cuda.is_available() else 'cpu'\n",
        "\n",
        "device = 'cpu'\n",
        "\n",
        "data = pd.read_csv('/content/drive/My Drive/statistical learning 2/Proyecto/pmsm_temperature_data.csv')\n",
        "data.describe()\n",
        "\n"
      ],
      "execution_count": 3,
      "outputs": [
        {
          "output_type": "stream",
          "text": [
            "Drive already mounted at /content/drive; to attempt to forcibly remount, call drive.mount(\"/content/drive\", force_remount=True).\n"
          ],
          "name": "stdout"
        },
        {
          "output_type": "execute_result",
          "data": {
            "text/html": [
              "<div>\n",
              "<style scoped>\n",
              "    .dataframe tbody tr th:only-of-type {\n",
              "        vertical-align: middle;\n",
              "    }\n",
              "\n",
              "    .dataframe tbody tr th {\n",
              "        vertical-align: top;\n",
              "    }\n",
              "\n",
              "    .dataframe thead th {\n",
              "        text-align: right;\n",
              "    }\n",
              "</style>\n",
              "<table border=\"1\" class=\"dataframe\">\n",
              "  <thead>\n",
              "    <tr style=\"text-align: right;\">\n",
              "      <th></th>\n",
              "      <th>ambient</th>\n",
              "      <th>coolant</th>\n",
              "      <th>u_d</th>\n",
              "      <th>u_q</th>\n",
              "      <th>motor_speed</th>\n",
              "      <th>torque</th>\n",
              "      <th>i_d</th>\n",
              "      <th>i_q</th>\n",
              "      <th>pm</th>\n",
              "      <th>stator_yoke</th>\n",
              "      <th>stator_tooth</th>\n",
              "      <th>stator_winding</th>\n",
              "      <th>profile_id</th>\n",
              "    </tr>\n",
              "  </thead>\n",
              "  <tbody>\n",
              "    <tr>\n",
              "      <th>count</th>\n",
              "      <td>998070.000000</td>\n",
              "      <td>998070.000000</td>\n",
              "      <td>998070.000000</td>\n",
              "      <td>998070.000000</td>\n",
              "      <td>998070.000000</td>\n",
              "      <td>998070.000000</td>\n",
              "      <td>998070.000000</td>\n",
              "      <td>998070.000000</td>\n",
              "      <td>998070.000000</td>\n",
              "      <td>998070.000000</td>\n",
              "      <td>998070.000000</td>\n",
              "      <td>998070.000000</td>\n",
              "      <td>998070.000000</td>\n",
              "    </tr>\n",
              "    <tr>\n",
              "      <th>mean</th>\n",
              "      <td>-0.003905</td>\n",
              "      <td>0.004723</td>\n",
              "      <td>0.004780</td>\n",
              "      <td>-0.005690</td>\n",
              "      <td>-0.006336</td>\n",
              "      <td>-0.003333</td>\n",
              "      <td>0.006043</td>\n",
              "      <td>-0.003194</td>\n",
              "      <td>-0.004396</td>\n",
              "      <td>0.000609</td>\n",
              "      <td>-0.002208</td>\n",
              "      <td>-0.003935</td>\n",
              "      <td>50.732001</td>\n",
              "    </tr>\n",
              "    <tr>\n",
              "      <th>std</th>\n",
              "      <td>0.993127</td>\n",
              "      <td>1.002423</td>\n",
              "      <td>0.997878</td>\n",
              "      <td>1.002330</td>\n",
              "      <td>1.001229</td>\n",
              "      <td>0.997907</td>\n",
              "      <td>0.998994</td>\n",
              "      <td>0.997912</td>\n",
              "      <td>0.995686</td>\n",
              "      <td>1.001049</td>\n",
              "      <td>0.999597</td>\n",
              "      <td>0.998343</td>\n",
              "      <td>22.073125</td>\n",
              "    </tr>\n",
              "    <tr>\n",
              "      <th>min</th>\n",
              "      <td>-8.573954</td>\n",
              "      <td>-1.429349</td>\n",
              "      <td>-1.655373</td>\n",
              "      <td>-1.861463</td>\n",
              "      <td>-1.371529</td>\n",
              "      <td>-3.345953</td>\n",
              "      <td>-3.245874</td>\n",
              "      <td>-3.341639</td>\n",
              "      <td>-2.631991</td>\n",
              "      <td>-1.834688</td>\n",
              "      <td>-2.066143</td>\n",
              "      <td>-2.019973</td>\n",
              "      <td>4.000000</td>\n",
              "    </tr>\n",
              "    <tr>\n",
              "      <th>25%</th>\n",
              "      <td>-0.599385</td>\n",
              "      <td>-1.037925</td>\n",
              "      <td>-0.826359</td>\n",
              "      <td>-0.927390</td>\n",
              "      <td>-0.951892</td>\n",
              "      <td>-0.266917</td>\n",
              "      <td>-0.756296</td>\n",
              "      <td>-0.257269</td>\n",
              "      <td>-0.672308</td>\n",
              "      <td>-0.747265</td>\n",
              "      <td>-0.761951</td>\n",
              "      <td>-0.725622</td>\n",
              "      <td>32.000000</td>\n",
              "    </tr>\n",
              "    <tr>\n",
              "      <th>50%</th>\n",
              "      <td>0.266157</td>\n",
              "      <td>-0.177187</td>\n",
              "      <td>0.267542</td>\n",
              "      <td>-0.099818</td>\n",
              "      <td>-0.140246</td>\n",
              "      <td>-0.187246</td>\n",
              "      <td>0.213935</td>\n",
              "      <td>-0.190076</td>\n",
              "      <td>0.094367</td>\n",
              "      <td>-0.057226</td>\n",
              "      <td>0.005085</td>\n",
              "      <td>0.006536</td>\n",
              "      <td>56.000000</td>\n",
              "    </tr>\n",
              "    <tr>\n",
              "      <th>75%</th>\n",
              "      <td>0.686675</td>\n",
              "      <td>0.650709</td>\n",
              "      <td>0.358491</td>\n",
              "      <td>0.852625</td>\n",
              "      <td>0.853584</td>\n",
              "      <td>0.547171</td>\n",
              "      <td>1.013975</td>\n",
              "      <td>0.499260</td>\n",
              "      <td>0.680691</td>\n",
              "      <td>0.697344</td>\n",
              "      <td>0.772239</td>\n",
              "      <td>0.725660</td>\n",
              "      <td>68.000000</td>\n",
              "    </tr>\n",
              "    <tr>\n",
              "      <th>max</th>\n",
              "      <td>2.967117</td>\n",
              "      <td>2.649032</td>\n",
              "      <td>2.274734</td>\n",
              "      <td>1.793498</td>\n",
              "      <td>2.024164</td>\n",
              "      <td>3.016971</td>\n",
              "      <td>1.060937</td>\n",
              "      <td>2.914185</td>\n",
              "      <td>2.917456</td>\n",
              "      <td>2.449158</td>\n",
              "      <td>2.326668</td>\n",
              "      <td>2.653781</td>\n",
              "      <td>81.000000</td>\n",
              "    </tr>\n",
              "  </tbody>\n",
              "</table>\n",
              "</div>"
            ],
            "text/plain": [
              "             ambient        coolant  ...  stator_winding     profile_id\n",
              "count  998070.000000  998070.000000  ...   998070.000000  998070.000000\n",
              "mean       -0.003905       0.004723  ...       -0.003935      50.732001\n",
              "std         0.993127       1.002423  ...        0.998343      22.073125\n",
              "min        -8.573954      -1.429349  ...       -2.019973       4.000000\n",
              "25%        -0.599385      -1.037925  ...       -0.725622      32.000000\n",
              "50%         0.266157      -0.177187  ...        0.006536      56.000000\n",
              "75%         0.686675       0.650709  ...        0.725660      68.000000\n",
              "max         2.967117       2.649032  ...        2.653781      81.000000\n",
              "\n",
              "[8 rows x 13 columns]"
            ]
          },
          "metadata": {
            "tags": []
          },
          "execution_count": 3
        }
      ]
    },
    {
      "cell_type": "markdown",
      "metadata": {
        "id": "hfrbwT94KWp8",
        "colab_type": "text"
      },
      "source": [
        "* **ambient**: Ambient temperature as measured by a thermal sensor located closely to the stator.\n",
        "* **coolant**: Coolant temperature. The motor is water cooled. Measurement is taken at outflow.\n",
        "* **u_d**: Voltage d-component\n",
        "* **u_q**: Voltage q-component\n",
        "* **motor_speed**: Motor speed\n",
        "* **torque**: Torque induced by current.\n",
        "* **i_d**: Current d-component\n",
        "* **i_q**: Current q-component\n",
        "* **pm**: Permanent Magnet surface temperature representing the rotor temperature. This was measured with an infrared thermography unit.\n",
        "* **stator_yoke**: Stator yoke temperature measured with a thermal sensor.\n",
        "* **stator_tooth**: Stator tooth temperature measured with a thermal sensor.\n",
        "* **stator_winding**: Stator winding temperature measured with a thermal sensor.\n",
        "* **profile_id**:  Each measurement session has a unique ID. Make sure not to try to estimate from one session onto the other as they are strongly independent."
      ]
    },
    {
      "cell_type": "code",
      "metadata": {
        "id": "Wa39pEArKXaC",
        "colab_type": "code",
        "outputId": "a057cf82-7930-40c4-bddc-87ff9edee8c1",
        "colab": {
          "base_uri": "https://localhost:8080/",
          "height": 34
        }
      },
      "source": [
        "nans=pd.isnull(data).sum()\n",
        "nans[nans>0]"
      ],
      "execution_count": 0,
      "outputs": [
        {
          "output_type": "execute_result",
          "data": {
            "text/plain": [
              "Series([], dtype: int64)"
            ]
          },
          "metadata": {
            "tags": []
          },
          "execution_count": 2
        }
      ]
    },
    {
      "cell_type": "code",
      "metadata": {
        "id": "fZTG-sYbKaCR",
        "colab_type": "code",
        "outputId": "531b2d8b-bc5f-4121-c992-8eba44d12edd",
        "colab": {
          "base_uri": "https://localhost:8080/",
          "height": 709
        }
      },
      "source": [
        "#correlation map\n",
        "f,ax=plt.subplots(figsize=(12,12))\n",
        "corr=data.corr()\n",
        "\n",
        "sns.heatmap(corr, annot=True, linewidths=.5, fmt='.2f', mask= np.zeros_like(corr,dtype=np.bool), cmap=sns.diverging_palette(100,200,as_cmap=True), \n",
        "            square=True, ax=ax)\n",
        "\n",
        "plt.show()"
      ],
      "execution_count": 0,
      "outputs": [
        {
          "output_type": "display_data",
          "data": {
            "image/png": "[encoded data removed]",
            "text/plain": [
              "<Figure size 864x864 with 2 Axes>"
            ]
          },
          "metadata": {
            "tags": []
          }
        }
      ]
    },
    {
      "cell_type": "code",
      "metadata": {
        "id": "puzkcnIP2DtG",
        "colab_type": "code",
        "outputId": "43944ec5-134a-44c2-aa30-02fd6c524dfb",
        "colab": {
          "base_uri": "https://localhost:8080/",
          "height": 1000
        }
      },
      "source": [
        "data.hist(figsize = (20,20))\n",
        "plt.show()"
      ],
      "execution_count": 0,
      "outputs": [
        {
          "output_type": "display_data",
          "data": {
            "image/png": "[encoded data removed]",
            "text/plain": [
              "<Figure size 1440x1440 with 16 Axes>"
            ]
          },
          "metadata": {
            "tags": []
          }
        }
      ]
    },
    {
      "cell_type": "code",
      "metadata": {
        "id": "df0bxlIs2RtM",
        "colab_type": "code",
        "outputId": "d90b7295-0592-4667-f552-3cf8f5876caa",
        "colab": {
          "base_uri": "https://localhost:8080/",
          "height": 339
        }
      },
      "source": [
        "fig = plt.figure(figsize=(17, 5))\n",
        "grpd = data.groupby(['profile_id'])\n",
        "_df = grpd.size().sort_values().rename('samples').reset_index()\n",
        "ordered_ids = _df.profile_id.values.tolist()\n",
        "sns.barplot(y='samples', x='profile_id', data=_df, order=ordered_ids)\n",
        "tcks = plt.yticks(2*3600*np.arange(1, 8), [f'{a} hrs' for a in range(1, 8)]) # 2Hz sample rate"
      ],
      "execution_count": 0,
      "outputs": [
        {
          "output_type": "display_data",
          "data": {
            "image/png": "[encoded data removed]",
            "text/plain": [
              "<Figure size 1224x360 with 1 Axes>"
            ]
          },
          "metadata": {
            "tags": []
          }
        }
      ]
    },
    {
      "cell_type": "code",
      "metadata": {
        "id": "bjrrEsrZ_sXW",
        "colab_type": "code",
        "outputId": "f6077266-17a1-49c1-d37f-72e31a32a82b",
        "colab": {
          "base_uri": "https://localhost:8080/",
          "height": 204
        }
      },
      "source": [
        "data = data.drop(columns=['profile_id'])\n",
        "data.head()"
      ],
      "execution_count": 0,
      "outputs": [
        {
          "output_type": "execute_result",
          "data": {
            "text/html": [
              "<div>\n",
              "<style scoped>\n",
              "    .dataframe tbody tr th:only-of-type {\n",
              "        vertical-align: middle;\n",
              "    }\n",
              "\n",
              "    .dataframe tbody tr th {\n",
              "        vertical-align: top;\n",
              "    }\n",
              "\n",
              "    .dataframe thead th {\n",
              "        text-align: right;\n",
              "    }\n",
              "</style>\n",
              "<table border=\"1\" class=\"dataframe\">\n",
              "  <thead>\n",
              "    <tr style=\"text-align: right;\">\n",
              "      <th></th>\n",
              "      <th>ambient</th>\n",
              "      <th>coolant</th>\n",
              "      <th>u_d</th>\n",
              "      <th>u_q</th>\n",
              "      <th>motor_speed</th>\n",
              "      <th>torque</th>\n",
              "      <th>i_d</th>\n",
              "      <th>i_q</th>\n",
              "      <th>pm</th>\n",
              "      <th>stator_yoke</th>\n",
              "      <th>stator_tooth</th>\n",
              "      <th>stator_winding</th>\n",
              "    </tr>\n",
              "  </thead>\n",
              "  <tbody>\n",
              "    <tr>\n",
              "      <th>0</th>\n",
              "      <td>-0.752143</td>\n",
              "      <td>-1.118446</td>\n",
              "      <td>0.327935</td>\n",
              "      <td>-1.297858</td>\n",
              "      <td>-1.222428</td>\n",
              "      <td>-0.250182</td>\n",
              "      <td>1.029572</td>\n",
              "      <td>-0.245860</td>\n",
              "      <td>-2.522071</td>\n",
              "      <td>-1.831422</td>\n",
              "      <td>-2.066143</td>\n",
              "      <td>-2.018033</td>\n",
              "    </tr>\n",
              "    <tr>\n",
              "      <th>1</th>\n",
              "      <td>-0.771263</td>\n",
              "      <td>-1.117021</td>\n",
              "      <td>0.329665</td>\n",
              "      <td>-1.297686</td>\n",
              "      <td>-1.222429</td>\n",
              "      <td>-0.249133</td>\n",
              "      <td>1.029509</td>\n",
              "      <td>-0.245832</td>\n",
              "      <td>-2.522418</td>\n",
              "      <td>-1.830969</td>\n",
              "      <td>-2.064859</td>\n",
              "      <td>-2.017631</td>\n",
              "    </tr>\n",
              "    <tr>\n",
              "      <th>2</th>\n",
              "      <td>-0.782892</td>\n",
              "      <td>-1.116681</td>\n",
              "      <td>0.332771</td>\n",
              "      <td>-1.301822</td>\n",
              "      <td>-1.222428</td>\n",
              "      <td>-0.249431</td>\n",
              "      <td>1.029448</td>\n",
              "      <td>-0.245818</td>\n",
              "      <td>-2.522673</td>\n",
              "      <td>-1.830400</td>\n",
              "      <td>-2.064073</td>\n",
              "      <td>-2.017343</td>\n",
              "    </tr>\n",
              "    <tr>\n",
              "      <th>3</th>\n",
              "      <td>-0.780935</td>\n",
              "      <td>-1.116764</td>\n",
              "      <td>0.333700</td>\n",
              "      <td>-1.301852</td>\n",
              "      <td>-1.222430</td>\n",
              "      <td>-0.248636</td>\n",
              "      <td>1.032845</td>\n",
              "      <td>-0.246955</td>\n",
              "      <td>-2.521639</td>\n",
              "      <td>-1.830333</td>\n",
              "      <td>-2.063137</td>\n",
              "      <td>-2.017632</td>\n",
              "    </tr>\n",
              "    <tr>\n",
              "      <th>4</th>\n",
              "      <td>-0.774043</td>\n",
              "      <td>-1.116775</td>\n",
              "      <td>0.335206</td>\n",
              "      <td>-1.303118</td>\n",
              "      <td>-1.222429</td>\n",
              "      <td>-0.248701</td>\n",
              "      <td>1.031807</td>\n",
              "      <td>-0.246610</td>\n",
              "      <td>-2.521900</td>\n",
              "      <td>-1.830498</td>\n",
              "      <td>-2.062795</td>\n",
              "      <td>-2.018145</td>\n",
              "    </tr>\n",
              "  </tbody>\n",
              "</table>\n",
              "</div>"
            ],
            "text/plain": [
              "    ambient   coolant       u_d  ...  stator_yoke  stator_tooth  stator_winding\n",
              "0 -0.752143 -1.118446  0.327935  ...    -1.831422     -2.066143       -2.018033\n",
              "1 -0.771263 -1.117021  0.329665  ...    -1.830969     -2.064859       -2.017631\n",
              "2 -0.782892 -1.116681  0.332771  ...    -1.830400     -2.064073       -2.017343\n",
              "3 -0.780935 -1.116764  0.333700  ...    -1.830333     -2.063137       -2.017632\n",
              "4 -0.774043 -1.116775  0.335206  ...    -1.830498     -2.062795       -2.018145\n",
              "\n",
              "[5 rows x 12 columns]"
            ]
          },
          "metadata": {
            "tags": []
          },
          "execution_count": 12
        }
      ]
    },
    {
      "cell_type": "code",
      "metadata": {
        "id": "RfHhdY5j7SaP",
        "colab_type": "code",
        "outputId": "9df29e0e-a4d3-470c-de5c-b193ce02c452",
        "colab": {
          "base_uri": "https://localhost:8080/",
          "height": 198
        }
      },
      "source": [
        "def pick_equidistant_elems(m, n):\n",
        "    \"\"\"From a set of n elements, pick m which have equal distance to each other\"\"\"\n",
        "    return [i*n//m + n//(2*m) for i in range(m)]\n",
        "\n",
        "  \n",
        "target_features = ['stator_yoke','stator_tooth', 'stator_winding', 'pm']\n",
        "matplotlib.rcParams.update({'font.size': 12})\n",
        "ids_to_plot = np.asarray(ordered_ids)[pick_equidistant_elems(6, len(ordered_ids))]\n",
        "fig2 = plt.figure(figsize=(17, 10))\n",
        "cols = len(ids_to_plot)\n",
        "for i, (sess_id, _df) in enumerate([g for g in grpd if g[0] in ids_to_plot]):\n",
        "    _df = _df.reset_index(drop=True)\n",
        "    plt.subplot(4, cols, i+1)\n",
        "    plt.xticks([])\n",
        "    for target in target_features:\n",
        "        plt.plot(_df[target], label=target)\n",
        "    if i == 0:\n",
        "        plt.legend(loc='upper right', bbox_to_anchor=(-0.2, 1.0))\n",
        "    \n",
        "plt.tight_layout()"
      ],
      "execution_count": 0,
      "outputs": [
        {
          "output_type": "display_data",
          "data": {
            "image/png": "[encoded data removed]",
            "text/plain": [
              "<Figure size 1224x720 with 6 Axes>"
            ]
          },
          "metadata": {
            "tags": []
          }
        }
      ]
    },
    {
      "cell_type": "markdown",
      "metadata": {
        "id": "i7YJnfDPA8lk",
        "colab_type": "text"
      },
      "source": [
        "Unificar variables que representan lo mismo, de acuerdo a los detalles del dataset."
      ]
    },
    {
      "cell_type": "code",
      "metadata": {
        "id": "STlcpTJw_5W6",
        "colab_type": "code",
        "colab": {}
      },
      "source": [
        "temp = data[['pm','stator_yoke','stator_tooth','stator_winding']]\n",
        "torque = data[['torque','i_q','u_d']]\n",
        "everything_else = data[['ambient','coolant','u_q','motor_speed','i_d']]"
      ],
      "execution_count": 0,
      "outputs": []
    },
    {
      "cell_type": "code",
      "metadata": {
        "id": "w-AgdgtHACZF",
        "colab_type": "code",
        "outputId": "0b20cca6-d027-4701-d410-33aff008a57d",
        "colab": {
          "base_uri": "https://localhost:8080/",
          "height": 297
        }
      },
      "source": [
        "from sklearn.decomposition import PCA\n",
        "pca = PCA(n_components=1)\n",
        "pca_temp = pca.fit_transform(temp)\n",
        "temp_df = pd.DataFrame(data = pca_temp, columns = ['temp_1'])\n",
        "\n",
        "pca = PCA(n_components=1)\n",
        "pca_torque = pca.fit_transform(torque)\n",
        "torque_df = pd.DataFrame(data = pca_torque, columns = ['torque_1'])\n",
        "\n",
        "temporal = pd.concat([temp_df, torque_df], axis = 1)\n",
        "temporal.head()\n",
        "\n",
        "final=pd.concat([temporal, everything_else], axis=1)\n",
        "final.describe()"
      ],
      "execution_count": 0,
      "outputs": [
        {
          "output_type": "execute_result",
          "data": {
            "text/html": [
              "<div>\n",
              "<style scoped>\n",
              "    .dataframe tbody tr th:only-of-type {\n",
              "        vertical-align: middle;\n",
              "    }\n",
              "\n",
              "    .dataframe tbody tr th {\n",
              "        vertical-align: top;\n",
              "    }\n",
              "\n",
              "    .dataframe thead th {\n",
              "        text-align: right;\n",
              "    }\n",
              "</style>\n",
              "<table border=\"1\" class=\"dataframe\">\n",
              "  <thead>\n",
              "    <tr style=\"text-align: right;\">\n",
              "      <th></th>\n",
              "      <th>temp_1</th>\n",
              "      <th>torque_1</th>\n",
              "      <th>ambient</th>\n",
              "      <th>coolant</th>\n",
              "      <th>u_q</th>\n",
              "      <th>motor_speed</th>\n",
              "      <th>i_d</th>\n",
              "    </tr>\n",
              "  </thead>\n",
              "  <tbody>\n",
              "    <tr>\n",
              "      <th>count</th>\n",
              "      <td>9.980700e+05</td>\n",
              "      <td>9.980700e+05</td>\n",
              "      <td>998070.000000</td>\n",
              "      <td>998070.000000</td>\n",
              "      <td>998070.000000</td>\n",
              "      <td>998070.000000</td>\n",
              "      <td>998070.000000</td>\n",
              "    </tr>\n",
              "    <tr>\n",
              "      <th>mean</th>\n",
              "      <td>-4.371408e-15</td>\n",
              "      <td>-7.844740e-15</td>\n",
              "      <td>-0.003905</td>\n",
              "      <td>0.004723</td>\n",
              "      <td>-0.005690</td>\n",
              "      <td>-0.006336</td>\n",
              "      <td>0.006043</td>\n",
              "    </tr>\n",
              "    <tr>\n",
              "      <th>std</th>\n",
              "      <td>1.865128e+00</td>\n",
              "      <td>1.653672e+00</td>\n",
              "      <td>0.993127</td>\n",
              "      <td>1.002423</td>\n",
              "      <td>1.002330</td>\n",
              "      <td>1.001229</td>\n",
              "      <td>0.998994</td>\n",
              "    </tr>\n",
              "    <tr>\n",
              "      <th>min</th>\n",
              "      <td>-4.212039e+00</td>\n",
              "      <td>-4.273946e+00</td>\n",
              "      <td>-8.573954</td>\n",
              "      <td>-1.429349</td>\n",
              "      <td>-1.861463</td>\n",
              "      <td>-1.371529</td>\n",
              "      <td>-3.245874</td>\n",
              "    </tr>\n",
              "    <tr>\n",
              "      <th>25%</th>\n",
              "      <td>-1.318927e+00</td>\n",
              "      <td>-1.228369e+00</td>\n",
              "      <td>-0.599385</td>\n",
              "      <td>-1.037925</td>\n",
              "      <td>-0.927390</td>\n",
              "      <td>-0.951892</td>\n",
              "      <td>-0.756296</td>\n",
              "    </tr>\n",
              "    <tr>\n",
              "      <th>50%</th>\n",
              "      <td>3.111943e-02</td>\n",
              "      <td>3.118333e-01</td>\n",
              "      <td>0.266157</td>\n",
              "      <td>-0.177187</td>\n",
              "      <td>-0.099818</td>\n",
              "      <td>-0.140246</td>\n",
              "      <td>0.213935</td>\n",
              "    </tr>\n",
              "    <tr>\n",
              "      <th>75%</th>\n",
              "      <td>1.406493e+00</td>\n",
              "      <td>4.873743e-01</td>\n",
              "      <td>0.686675</td>\n",
              "      <td>0.650709</td>\n",
              "      <td>0.852625</td>\n",
              "      <td>0.853584</td>\n",
              "      <td>1.013975</td>\n",
              "    </tr>\n",
              "    <tr>\n",
              "      <th>max</th>\n",
              "      <td>4.360209e+00</td>\n",
              "      <td>5.060004e+00</td>\n",
              "      <td>2.967117</td>\n",
              "      <td>2.649032</td>\n",
              "      <td>1.793498</td>\n",
              "      <td>2.024164</td>\n",
              "      <td>1.060937</td>\n",
              "    </tr>\n",
              "  </tbody>\n",
              "</table>\n",
              "</div>"
            ],
            "text/plain": [
              "             temp_1      torque_1  ...    motor_speed            i_d\n",
              "count  9.980700e+05  9.980700e+05  ...  998070.000000  998070.000000\n",
              "mean  -4.371408e-15 -7.844740e-15  ...      -0.006336       0.006043\n",
              "std    1.865128e+00  1.653672e+00  ...       1.001229       0.998994\n",
              "min   -4.212039e+00 -4.273946e+00  ...      -1.371529      -3.245874\n",
              "25%   -1.318927e+00 -1.228369e+00  ...      -0.951892      -0.756296\n",
              "50%    3.111943e-02  3.118333e-01  ...      -0.140246       0.213935\n",
              "75%    1.406493e+00  4.873743e-01  ...       0.853584       1.013975\n",
              "max    4.360209e+00  5.060004e+00  ...       2.024164       1.060937\n",
              "\n",
              "[8 rows x 7 columns]"
            ]
          },
          "metadata": {
            "tags": []
          },
          "execution_count": 110
        }
      ]
    },
    {
      "cell_type": "code",
      "metadata": {
        "id": "qyBQ0RsaBFWA",
        "colab_type": "code",
        "outputId": "44f1a85b-5506-4952-8f20-4fcc0f028555",
        "colab": {
          "base_uri": "https://localhost:8080/",
          "height": 690
        }
      },
      "source": [
        "f,ax=plt.subplots(figsize=(12,12))\n",
        "corr=final.corr()\n",
        "\n",
        "sns.heatmap(corr, annot=True, linewidths=.5, fmt='.2f', mask= np.zeros_like(corr,dtype=np.bool), cmap=sns.diverging_palette(100,200,as_cmap=True), \n",
        "            square=True, ax=ax)\n",
        "\n",
        "plt.show()"
      ],
      "execution_count": 0,
      "outputs": [
        {
          "output_type": "display_data",
          "data": {
            "image/png": "[encoded data removed]",
            "text/plain": [
              "<Figure size 864x864 with 2 Axes>"
            ]
          },
          "metadata": {
            "tags": []
          }
        }
      ]
    },
    {
      "cell_type": "code",
      "metadata": {
        "id": "MEFRx1v1BbsG",
        "colab_type": "code",
        "outputId": "db0ec4eb-9851-4faa-aeaf-61655161bed2",
        "colab": {
          "base_uri": "https://localhost:8080/",
          "height": 204
        }
      },
      "source": [
        "df_x = final.drop([\"temp_1\", \"torque_1\", \"u_q\"],axis=1)\n",
        "df_y = pd.DataFrame(final['temp_1']) #temp1 is dependent variable.\n",
        "df_x.head()"
      ],
      "execution_count": 0,
      "outputs": [
        {
          "output_type": "execute_result",
          "data": {
            "text/html": [
              "<div>\n",
              "<style scoped>\n",
              "    .dataframe tbody tr th:only-of-type {\n",
              "        vertical-align: middle;\n",
              "    }\n",
              "\n",
              "    .dataframe tbody tr th {\n",
              "        vertical-align: top;\n",
              "    }\n",
              "\n",
              "    .dataframe thead th {\n",
              "        text-align: right;\n",
              "    }\n",
              "</style>\n",
              "<table border=\"1\" class=\"dataframe\">\n",
              "  <thead>\n",
              "    <tr style=\"text-align: right;\">\n",
              "      <th></th>\n",
              "      <th>ambient</th>\n",
              "      <th>coolant</th>\n",
              "      <th>motor_speed</th>\n",
              "      <th>i_d</th>\n",
              "    </tr>\n",
              "  </thead>\n",
              "  <tbody>\n",
              "    <tr>\n",
              "      <th>0</th>\n",
              "      <td>-0.752143</td>\n",
              "      <td>-1.118446</td>\n",
              "      <td>-1.222428</td>\n",
              "      <td>1.029572</td>\n",
              "    </tr>\n",
              "    <tr>\n",
              "      <th>1</th>\n",
              "      <td>-0.771263</td>\n",
              "      <td>-1.117021</td>\n",
              "      <td>-1.222429</td>\n",
              "      <td>1.029509</td>\n",
              "    </tr>\n",
              "    <tr>\n",
              "      <th>2</th>\n",
              "      <td>-0.782892</td>\n",
              "      <td>-1.116681</td>\n",
              "      <td>-1.222428</td>\n",
              "      <td>1.029448</td>\n",
              "    </tr>\n",
              "    <tr>\n",
              "      <th>3</th>\n",
              "      <td>-0.780935</td>\n",
              "      <td>-1.116764</td>\n",
              "      <td>-1.222430</td>\n",
              "      <td>1.032845</td>\n",
              "    </tr>\n",
              "    <tr>\n",
              "      <th>4</th>\n",
              "      <td>-0.774043</td>\n",
              "      <td>-1.116775</td>\n",
              "      <td>-1.222429</td>\n",
              "      <td>1.031807</td>\n",
              "    </tr>\n",
              "  </tbody>\n",
              "</table>\n",
              "</div>"
            ],
            "text/plain": [
              "    ambient   coolant  motor_speed       i_d\n",
              "0 -0.752143 -1.118446    -1.222428  1.029572\n",
              "1 -0.771263 -1.117021    -1.222429  1.029509\n",
              "2 -0.782892 -1.116681    -1.222428  1.029448\n",
              "3 -0.780935 -1.116764    -1.222430  1.032845\n",
              "4 -0.774043 -1.116775    -1.222429  1.031807"
            ]
          },
          "metadata": {
            "tags": []
          },
          "execution_count": 20
        }
      ]
    },
    {
      "cell_type": "code",
      "metadata": {
        "id": "okqWd5nkCS6B",
        "colab_type": "code",
        "outputId": "b048a7d7-cf4d-416e-d381-5e8d027ae576",
        "colab": {
          "base_uri": "https://localhost:8080/",
          "height": 204
        }
      },
      "source": [
        "df_y.head()"
      ],
      "execution_count": 0,
      "outputs": [
        {
          "output_type": "execute_result",
          "data": {
            "text/html": [
              "<div>\n",
              "<style scoped>\n",
              "    .dataframe tbody tr th:only-of-type {\n",
              "        vertical-align: middle;\n",
              "    }\n",
              "\n",
              "    .dataframe tbody tr th {\n",
              "        vertical-align: top;\n",
              "    }\n",
              "\n",
              "    .dataframe thead th {\n",
              "        text-align: right;\n",
              "    }\n",
              "</style>\n",
              "<table border=\"1\" class=\"dataframe\">\n",
              "  <thead>\n",
              "    <tr style=\"text-align: right;\">\n",
              "      <th></th>\n",
              "      <th>temp_1</th>\n",
              "    </tr>\n",
              "  </thead>\n",
              "  <tbody>\n",
              "    <tr>\n",
              "      <th>0</th>\n",
              "      <td>-4.183849</td>\n",
              "    </tr>\n",
              "    <tr>\n",
              "      <th>1</th>\n",
              "      <td>-4.182892</td>\n",
              "    </tr>\n",
              "    <tr>\n",
              "      <th>2</th>\n",
              "      <td>-4.182157</td>\n",
              "    </tr>\n",
              "    <tr>\n",
              "      <th>3</th>\n",
              "      <td>-4.181306</td>\n",
              "    </tr>\n",
              "    <tr>\n",
              "      <th>4</th>\n",
              "      <td>-4.181587</td>\n",
              "    </tr>\n",
              "  </tbody>\n",
              "</table>\n",
              "</div>"
            ],
            "text/plain": [
              "     temp_1\n",
              "0 -4.183849\n",
              "1 -4.182892\n",
              "2 -4.182157\n",
              "3 -4.181306\n",
              "4 -4.181587"
            ]
          },
          "metadata": {
            "tags": []
          },
          "execution_count": 21
        }
      ]
    },
    {
      "cell_type": "code",
      "metadata": {
        "id": "TuSkKmMFKZ8P",
        "colab_type": "code",
        "outputId": "87d0d1d3-73f4-4148-c8a3-4a9d7cfcec6f",
        "colab": {
          "base_uri": "https://localhost:8080/",
          "height": 34
        }
      },
      "source": [
        "from sklearn.model_selection import train_test_split\n",
        "from sklearn.metrics import r2_score\n",
        "\n",
        "torch.cuda.empty_cache()\n",
        "torch.cuda.reset_max_memory_cached\n",
        "\n",
        "xTrain, xTest, yTrain, yTest = train_test_split(df_x.to_numpy(), df_y.to_numpy(), test_size = 0.3, random_state = 0)\n",
        "\n",
        "x_train = torch.FloatTensor(xTrain)\n",
        "y_train = torch.FloatTensor(yTrain)\n",
        "x_test = torch.FloatTensor(xTest)\n",
        "y_test = torch.FloatTensor(yTest)\n",
        "print(x_train.shape)"
      ],
      "execution_count": 0,
      "outputs": [
        {
          "output_type": "stream",
          "text": [
            "torch.Size([698649, 4])\n"
          ],
          "name": "stdout"
        }
      ]
    },
    {
      "cell_type": "code",
      "metadata": {
        "id": "Qd66YMF1LZFB",
        "colab_type": "code",
        "outputId": "3ebe224e-1978-4dca-9c21-b27ad460559d",
        "colab": {
          "base_uri": "https://localhost:8080/",
          "height": 34
        }
      },
      "source": [
        "print(x_train.shape)"
      ],
      "execution_count": 0,
      "outputs": [
        {
          "output_type": "stream",
          "text": [
            "torch.Size([698649, 4])\n"
          ],
          "name": "stdout"
        }
      ]
    },
    {
      "cell_type": "code",
      "metadata": {
        "id": "GZ_Cp60MKZ5K",
        "colab_type": "code",
        "colab": {}
      },
      "source": [
        "from torch.optim.lr_scheduler import CyclicLR\n",
        "class Feedforward(torch.nn.Module):\n",
        "  def __init__(self, input_size, hidden_size):\n",
        "    super(Feedforward, self).__init__()\n",
        "    self.input_size = input_size\n",
        "    self.hidden_size  = hidden_size\n",
        "    self.fc1 = torch.nn.Linear(self.input_size, self.hidden_size)\n",
        "    self.relu = torch.nn.ReLU()\n",
        "    self.fc2 = torch.nn.Linear(self.hidden_size, self.hidden_size - 1)\n",
        "    self.fc3 = torch.nn.Linear(self.hidden_size - 1, self.hidden_size - 1)\n",
        "    self.fc4 = torch.nn.Linear(self.hidden_size - 1, self.hidden_size - 2)\n",
        "    self.fc5 = torch.nn.Linear(self.hidden_size - 2, self.hidden_size - 3 )\n",
        "    self.fc6 = torch.nn.Linear(self.hidden_size - 3, 1)\n",
        "    self.sigmoid = torch.nn.Sigmoid()\n",
        "  def forward(self, x):\n",
        "    hidden = self.fc1(x)\n",
        "    relu = self.relu(hidden)\n",
        "    hidden2 = self.fc2(relu)\n",
        "    relu2 = self.relu(hidden2)\n",
        "    hidden3 = self.fc3(relu2)\n",
        "    relu3 = self.relu(hidden3)\n",
        "    hidden4 =  self.fc4(relu3)\n",
        "    relu4 = self.relu(hidden4)\n",
        "    hidden5 = self.fc5(relu4)\n",
        "    relu5 = self.relu(hidden5)\n",
        "    output = self.fc6(relu5)\n",
        "    output = self.sigmoid(output)\n",
        "    return output\n",
        "\n",
        "def init_weights(m):\n",
        "  if type(m) == nn.Linear:\n",
        "    torch.nn.init.xavier_uniform(m.weight)\n",
        "    m.bias.data.fill_(0.01)"
      ],
      "execution_count": 0,
      "outputs": []
    },
    {
      "cell_type": "markdown",
      "metadata": {
        "id": "x4J8nD4AWfz4",
        "colab_type": "text"
      },
      "source": [
        "# SGD"
      ]
    },
    {
      "cell_type": "code",
      "metadata": {
        "id": "ymG5sIYhKZ2d",
        "colab_type": "code",
        "colab": {}
      },
      "source": [
        "def sgd(inputs, hidden_nodes, lr, momentum, epoch, x_train, y_train, x_test, y_test, batch_size):\n",
        "  model = Feedforward(inputs, hidden_nodes)\n",
        "  model.cuda()\n",
        "  model.apply(init_weights)\n",
        "  criterion = torch.nn.MSELoss()\n",
        "  optimizer = torch.optim.SGD(model.parameters(), lr = lr, momentum = momentum)\n",
        "  losses = []\n",
        "  model.train()\n",
        "\n",
        "  for epoch in range(epoch):\n",
        "    \n",
        "    for batch in range(math.floor(x_train.shape[0] / batch_size)):\n",
        "      optimizer.zero_grad()\n",
        "      x_batch = x_train[batch*batch_size:batch*batch_size + batch_size, :]\n",
        "      y_batch = y_train[batch*batch_size:batch*batch_size + batch_size]\n",
        "      x_batch = x_batch.to(device)\n",
        "      y_batch = y_batch.to(device)\n",
        "      \n",
        "      \n",
        "      # Forward pass\n",
        "      y_pred = model(x_batch)\n",
        "      # Compute Loss\n",
        "      loss = criterion(y_pred.squeeze(), y_batch)\n",
        "      losses.append(loss)\n",
        "      if epoch > 0 and epoch % 1000 == 0:\n",
        "          print('Epoch {}: train loss: {}'.format(epoch, loss.item()))\n",
        "      # Backward pass\n",
        "      loss.backward()\n",
        "      optimizer.step()\n",
        "\n",
        "  print('**************************')\n",
        "  model.eval()\n",
        "  y_pred = model(x_test[0:batch_size, :].to(device))\n",
        "  after_train = criterion(y_pred.squeeze(), y_test[0:batch_size].to(device).squeeze()) \n",
        "  print('Test loss after Training' , after_train.item())\n",
        "\n",
        "  r_square = r2_score(y_test[0:batch_size, :], y_pred.cpu().detach().numpy().squeeze())\n",
        "  print('R^2 '+ str(r_square))\n",
        "\n",
        "  return losses\n",
        "\n"
      ],
      "execution_count": 0,
      "outputs": []
    },
    {
      "cell_type": "code",
      "metadata": {
        "id": "kVM9vu4VR6Un",
        "colab_type": "code",
        "outputId": "dd11e458-7234-441a-c62f-59c6a8fd1d0c",
        "colab": {
          "base_uri": "https://localhost:8080/",
          "height": 156
        }
      },
      "source": [
        "losses = sgd(4, 6, 0.5, 0.9, 100, x_train, y_train, x_test, y_test, 1024)\n",
        "print(losses[-1])"
      ],
      "execution_count": 0,
      "outputs": [
        {
          "output_type": "stream",
          "text": [
            "/usr/local/lib/python3.6/dist-packages/ipykernel_launcher.py:32: UserWarning: nn.init.xavier_uniform is now deprecated in favor of nn.init.xavier_uniform_.\n",
            "/usr/local/lib/python3.6/dist-packages/torch/nn/modules/loss.py:443: UserWarning: Using a target size (torch.Size([1024, 1])) that is different to the input size (torch.Size([1024])). This will likely lead to incorrect results due to broadcasting. Please ensure they have the same size.\n",
            "  return F.mse_loss(input, target, reduction=self.reduction)\n"
          ],
          "name": "stderr"
        },
        {
          "output_type": "stream",
          "text": [
            "**************************\n",
            "Test loss after Training 3.5727667808532715\n",
            "R^2 -0.00013899535851247258\n",
            "tensor(3.4377, device='cuda:0', grad_fn=<MseLossBackward>)\n"
          ],
          "name": "stdout"
        }
      ]
    },
    {
      "cell_type": "markdown",
      "metadata": {
        "id": "5cmwlt79Wh8F",
        "colab_type": "text"
      },
      "source": [
        "# Adam"
      ]
    },
    {
      "cell_type": "code",
      "metadata": {
        "id": "lJ2t0rKVKZwm",
        "colab_type": "code",
        "colab": {}
      },
      "source": [
        "def adam(inputs, hidden_nodes, epoch, x_train, y_train, x_test, y_test, batch_size):\n",
        "  model = Feedforward(inputs, hidden_nodes)\n",
        "  model.to(device)\n",
        "  model.apply(init_weights)\n",
        "  criterion = torch.nn.MSELoss()\n",
        "  optimizer = torch.optim.Adam(model.parameters())\n",
        "\n",
        "  model.train()\n",
        "  \n",
        "  losses = []\n",
        "  for epoch in range(epoch):\n",
        "     for batch in range(math.floor(x_train.shape[0] / batch_size)):\n",
        "      optimizer.zero_grad()\n",
        "      x_batch = x_train[batch*batch_size:batch*batch_size + batch_size, :]\n",
        "      y_batch = y_train[batch*batch_size:batch*batch_size + batch_size, :]\n",
        "      x_batch = x_batch.to(device)\n",
        "      y_batch = y_batch.to(device)\n",
        "      \n",
        "      # Forward pass\n",
        "      y_pred = model(x_batch)\n",
        "      # Compute Loss\n",
        "      loss = criterion(y_pred.squeeze(), y_batch)\n",
        "      losses.append(loss)\n",
        "#       if epoch % 100 == 0:\n",
        "#           print('Epoch {}: train loss: {}'.format(epoch, loss.item()))\n",
        "      # Backward pass\n",
        "      loss.backward()\n",
        "      optimizer.step()\n",
        "\n",
        "  print('**************************')\n",
        "  model.eval()\n",
        "  y_pred = model(x_test[0:batch_size, :].to(device))\n",
        "  after_train = criterion(y_pred.squeeze(), y_test[0:batch_size].to(device).squeeze()) \n",
        "  print('Test loss after Training' , after_train.item())\n",
        "\n",
        "  r_square = r2_score(y_test[0:batch_size, :], y_pred.cpu().detach().numpy().squeeze())\n",
        "  print('R^2 '+ str(r_square))\n",
        "\n",
        "  return losses"
      ],
      "execution_count": 0,
      "outputs": []
    },
    {
      "cell_type": "code",
      "metadata": {
        "id": "7uUdv9k-SN1w",
        "colab_type": "code",
        "outputId": "f0cd8313-ceb2-4e6c-c636-c5520dd6a856",
        "colab": {
          "base_uri": "https://localhost:8080/",
          "height": 156
        }
      },
      "source": [
        "losses = adam(4, 30, 100, x_train, y_train, x_test, y_test, 1024)\n",
        "print(losses[-1])"
      ],
      "execution_count": 0,
      "outputs": [
        {
          "output_type": "stream",
          "text": [
            "/usr/local/lib/python3.6/dist-packages/ipykernel_launcher.py:32: UserWarning: nn.init.xavier_uniform is now deprecated in favor of nn.init.xavier_uniform_.\n",
            "/usr/local/lib/python3.6/dist-packages/torch/nn/modules/loss.py:443: UserWarning: Using a target size (torch.Size([1024, 1])) that is different to the input size (torch.Size([1024])). This will likely lead to incorrect results due to broadcasting. Please ensure they have the same size.\n",
            "  return F.mse_loss(input, target, reduction=self.reduction)\n"
          ],
          "name": "stderr"
        },
        {
          "output_type": "stream",
          "text": [
            "**************************\n",
            "Test loss after Training 3.5727500915527344\n",
            "R^2 -0.00013427340751026584\n",
            "tensor(3.4377, device='cuda:0', grad_fn=<MseLossBackward>)\n"
          ],
          "name": "stdout"
        }
      ]
    },
    {
      "cell_type": "markdown",
      "metadata": {
        "id": "aoGBBZsIQkIr",
        "colab_type": "text"
      },
      "source": [
        "## Normalizar datos"
      ]
    },
    {
      "cell_type": "code",
      "metadata": {
        "id": "JtJS78c4KZs1",
        "colab_type": "code",
        "colab": {}
      },
      "source": [
        "from sklearn import preprocessing\n",
        "\n",
        "min_max_scaler = preprocessing.MinMaxScaler()\n",
        "x_train_norm = min_max_scaler.fit_transform(x_train.cpu().numpy())\n",
        "\n",
        "# x_train_norm = preprocessing.scale(x_train.cpu().numpy())\n",
        "# x_train_norm = std_scale.transform(x_train.cpu())\n",
        "\n",
        "x_test_norm = min_max_scaler.fit_transform(x_test.cpu().numpy())\n"
      ],
      "execution_count": 0,
      "outputs": []
    },
    {
      "cell_type": "code",
      "metadata": {
        "id": "MzLqymdIKZjD",
        "colab_type": "code",
        "outputId": "e48859b7-e5de-4177-9af6-ae2c66c48089",
        "colab": {
          "base_uri": "https://localhost:8080/",
          "height": 34
        }
      },
      "source": [
        "x_train_norm_p = torch.FloatTensor(x_train_norm).cuda()\n",
        "x_test_norm_p = torch.FloatTensor(x_test_norm).cuda()\n",
        "print(x_train_norm_p.shape)"
      ],
      "execution_count": 0,
      "outputs": [
        {
          "output_type": "stream",
          "text": [
            "torch.Size([698649, 4])\n"
          ],
          "name": "stdout"
        }
      ]
    },
    {
      "cell_type": "code",
      "metadata": {
        "id": "lOL6YLP-TWTf",
        "colab_type": "code",
        "outputId": "15112142-cd65-412a-d310-e63d9edf4276",
        "colab": {
          "base_uri": "https://localhost:8080/",
          "height": 955
        }
      },
      "source": [
        "sgd(4, 30, 0.1, 0.9, 5000, x_train_norm_p, y_train, x_test_norm_p, y_test)"
      ],
      "execution_count": 0,
      "outputs": [
        {
          "output_type": "stream",
          "text": [
            "/usr/local/lib/python3.6/dist-packages/ipykernel_launcher.py:32: UserWarning: nn.init.xavier_uniform is now deprecated in favor of nn.init.xavier_uniform_.\n"
          ],
          "name": "stderr"
        },
        {
          "output_type": "stream",
          "text": [
            "Epoch 0: train loss: 1.2584327459335327\n",
            "Epoch 100: train loss: 0.7186518907546997\n",
            "Epoch 200: train loss: 0.7187373638153076\n",
            "Epoch 300: train loss: 0.6992453336715698\n",
            "Epoch 400: train loss: 0.6852635741233826\n",
            "Epoch 500: train loss: 0.6830331087112427\n",
            "Epoch 600: train loss: 0.6777637600898743\n",
            "Epoch 700: train loss: 0.6916287541389465\n",
            "Epoch 800: train loss: 0.6866917610168457\n",
            "Epoch 900: train loss: 0.6738747358322144\n",
            "Epoch 1000: train loss: 0.6732699275016785\n",
            "Epoch 1100: train loss: 0.6724071502685547\n",
            "Epoch 1200: train loss: 0.6695244312286377\n",
            "Epoch 1300: train loss: 0.6814310550689697\n",
            "Epoch 1400: train loss: 0.6664993762969971\n",
            "Epoch 1500: train loss: 0.6659494638442993\n",
            "Epoch 1600: train loss: 0.6683118343353271\n",
            "Epoch 1700: train loss: 0.6649230718612671\n",
            "Epoch 1800: train loss: 0.6644989848136902\n",
            "Epoch 1900: train loss: 0.6641672253608704\n",
            "Epoch 2000: train loss: 0.6696717739105225\n",
            "Epoch 2100: train loss: 0.6641668081283569\n",
            "Epoch 2200: train loss: 0.6654295325279236\n",
            "Epoch 2300: train loss: 0.6622030735015869\n",
            "Epoch 2400: train loss: 0.6621001362800598\n",
            "Epoch 2500: train loss: 0.6614969372749329\n",
            "Epoch 2600: train loss: 0.6597436666488647\n",
            "Epoch 2700: train loss: 0.6594435572624207\n",
            "Epoch 2800: train loss: 0.6609014272689819\n",
            "Epoch 2900: train loss: 0.6587932705879211\n",
            "Epoch 3000: train loss: 0.6585764288902283\n",
            "Epoch 3100: train loss: 0.6585022211074829\n",
            "Epoch 3200: train loss: 0.6584690809249878\n",
            "Epoch 3300: train loss: 0.6615801453590393\n",
            "Epoch 3400: train loss: 0.6614488959312439\n",
            "Epoch 3500: train loss: 0.6608052849769592\n",
            "Epoch 3600: train loss: 0.6609167456626892\n",
            "Epoch 3700: train loss: 0.6599948406219482\n",
            "Epoch 3800: train loss: 0.657958447933197\n",
            "Epoch 3900: train loss: 0.6557559967041016\n",
            "Epoch 4000: train loss: 0.6555246114730835\n",
            "Epoch 4100: train loss: 0.6562740802764893\n",
            "Epoch 4200: train loss: 0.6587601900100708\n",
            "Epoch 4300: train loss: 0.654950737953186\n",
            "Epoch 4400: train loss: 0.6659361720085144\n",
            "Epoch 4500: train loss: 0.6548970937728882\n",
            "Epoch 4600: train loss: 0.6543960571289062\n",
            "Epoch 4700: train loss: 0.659864604473114\n",
            "Epoch 4800: train loss: 0.6553220748901367\n",
            "Epoch 4900: train loss: 0.6556259393692017\n",
            "**************************\n",
            "Test loss after Training 0.6599010825157166\n",
            "R^2 0.33522833623094817\n"
          ],
          "name": "stdout"
        }
      ]
    },
    {
      "cell_type": "code",
      "metadata": {
        "id": "VXkM3m5rToJv",
        "colab_type": "code",
        "outputId": "4aef80c0-4389-4ff5-c50a-fe517fef4337",
        "colab": {
          "base_uri": "https://localhost:8080/",
          "height": 955
        }
      },
      "source": [
        "adam(4, 30, 5000, x_train_norm_p, y_train, x_test_norm_p, y_test)"
      ],
      "execution_count": 0,
      "outputs": [
        {
          "output_type": "stream",
          "text": [
            "/usr/local/lib/python3.6/dist-packages/ipykernel_launcher.py:32: UserWarning: nn.init.xavier_uniform is now deprecated in favor of nn.init.xavier_uniform_.\n"
          ],
          "name": "stderr"
        },
        {
          "output_type": "stream",
          "text": [
            "Epoch 0: train loss: 1.2501274347305298\n",
            "Epoch 100: train loss: 0.7324135303497314\n",
            "Epoch 200: train loss: 0.6832155585289001\n",
            "Epoch 300: train loss: 0.6720060706138611\n",
            "Epoch 400: train loss: 0.6677910089492798\n",
            "Epoch 500: train loss: 0.6648896932601929\n",
            "Epoch 600: train loss: 0.6633127927780151\n",
            "Epoch 700: train loss: 0.6627026200294495\n",
            "Epoch 800: train loss: 0.6624524593353271\n",
            "Epoch 900: train loss: 0.6619135737419128\n",
            "Epoch 1000: train loss: 0.6616328358650208\n",
            "Epoch 1100: train loss: 0.6613867282867432\n",
            "Epoch 1200: train loss: 0.6611557006835938\n",
            "Epoch 1300: train loss: 0.6609687805175781\n",
            "Epoch 1400: train loss: 0.6606866717338562\n",
            "Epoch 1500: train loss: 0.6604385375976562\n",
            "Epoch 1600: train loss: 0.6602368354797363\n",
            "Epoch 1700: train loss: 0.6600499153137207\n",
            "Epoch 1800: train loss: 0.6600736975669861\n",
            "Epoch 1900: train loss: 0.6596888899803162\n",
            "Epoch 2000: train loss: 0.6595327854156494\n",
            "Epoch 2100: train loss: 0.6594879627227783\n",
            "Epoch 2200: train loss: 0.6591686010360718\n",
            "Epoch 2300: train loss: 0.658980131149292\n",
            "Epoch 2400: train loss: 0.6598209738731384\n",
            "Epoch 2500: train loss: 0.6585901975631714\n",
            "Epoch 2600: train loss: 0.6583811044692993\n",
            "Epoch 2700: train loss: 0.6581796407699585\n",
            "Epoch 2800: train loss: 0.657895028591156\n",
            "Epoch 2900: train loss: 0.6575917601585388\n",
            "Epoch 3000: train loss: 0.6577221751213074\n",
            "Epoch 3100: train loss: 0.6570075750350952\n",
            "Epoch 3200: train loss: 0.6568458080291748\n",
            "Epoch 3300: train loss: 0.6564314365386963\n",
            "Epoch 3400: train loss: 0.6560465097427368\n",
            "Epoch 3500: train loss: 0.6558136343955994\n",
            "Epoch 3600: train loss: 0.6558197140693665\n",
            "Epoch 3700: train loss: 0.6553938984870911\n",
            "Epoch 3800: train loss: 0.6555478572845459\n",
            "Epoch 3900: train loss: 0.6549880504608154\n",
            "Epoch 4000: train loss: 0.654768168926239\n",
            "Epoch 4100: train loss: 0.6545919179916382\n",
            "Epoch 4200: train loss: 0.654370903968811\n",
            "Epoch 4300: train loss: 0.6542630195617676\n",
            "Epoch 4400: train loss: 0.6543256044387817\n",
            "Epoch 4500: train loss: 0.6538099050521851\n",
            "Epoch 4600: train loss: 0.6536186337471008\n",
            "Epoch 4700: train loss: 0.6549825668334961\n",
            "Epoch 4800: train loss: 0.6537325382232666\n",
            "Epoch 4900: train loss: 0.6532847285270691\n",
            "**************************\n",
            "Test loss after Training 0.660999059677124\n",
            "R^2 0.33412232299680034\n"
          ],
          "name": "stdout"
        }
      ]
    },
    {
      "cell_type": "markdown",
      "metadata": {
        "id": "5nQqxp9AqU5m",
        "colab_type": "text"
      },
      "source": [
        "Con dos capas ocultas, tanto SGD como adam parace no converger bien aun y cuando los datos han sido pre procesados\n"
      ]
    },
    {
      "cell_type": "markdown",
      "metadata": {
        "id": "Zme1RuZIZ5FV",
        "colab_type": "text"
      },
      "source": [
        "No funciona tampoco\n",
        "\n",
        "# Probando diferentes features\n"
      ]
    },
    {
      "cell_type": "code",
      "metadata": {
        "id": "sXOYKSv9Z8vL",
        "colab_type": "code",
        "outputId": "53a9499d-80e6-4e23-b57c-7efce6f442a6",
        "colab": {
          "base_uri": "https://localhost:8080/",
          "height": 34
        }
      },
      "source": [
        "x = data[['stator_yoke','stator_tooth', 'stator_winding']].to_numpy()\n",
        "y = data['pm'].to_numpy()\n",
        "x[0]"
      ],
      "execution_count": 0,
      "outputs": [
        {
          "output_type": "execute_result",
          "data": {
            "text/plain": [
              "array([-1.8314217, -2.0661428, -2.0180326])"
            ]
          },
          "metadata": {
            "tags": []
          },
          "execution_count": 83
        }
      ]
    },
    {
      "cell_type": "code",
      "metadata": {
        "id": "gUgsIb4IcRuk",
        "colab_type": "code",
        "outputId": "0865c7b8-5b83-40a3-e42d-c56e7581bb32",
        "colab": {
          "base_uri": "https://localhost:8080/",
          "height": 34
        }
      },
      "source": [
        "xTrain, xTest, yTrain, yTest = train_test_split(x, y, test_size = 0.3, random_state = 345)\n",
        "\n",
        "\n",
        "x_train_2 = torch.FloatTensor(xTrain).cuda()\n",
        "y_train_2 = torch.FloatTensor(yTrain).cuda()\n",
        "x_test_2 = torch.FloatTensor(xTest).cuda()\n",
        "y_test_2 = torch.FloatTensor(yTest).cuda()\n",
        "\n",
        "print(x_train_2[0])"
      ],
      "execution_count": 0,
      "outputs": [
        {
          "output_type": "stream",
          "text": [
            "tensor([-0.7347, -0.5303, -0.5480], device='cuda:0')\n"
          ],
          "name": "stdout"
        }
      ]
    },
    {
      "cell_type": "code",
      "metadata": {
        "id": "vVPVXVz1gbYX",
        "colab_type": "code",
        "outputId": "53727db7-0761-474b-c8cf-3c335cba06f0",
        "colab": {
          "base_uri": "https://localhost:8080/",
          "height": 275
        }
      },
      "source": [
        "adam(3, 10, 1000, x_train_2, y_train_2, x_test_2, y_test_2)"
      ],
      "execution_count": 0,
      "outputs": [
        {
          "output_type": "stream",
          "text": [
            "/usr/local/lib/python3.6/dist-packages/ipykernel_launcher.py:32: UserWarning: nn.init.xavier_uniform is now deprecated in favor of nn.init.xavier_uniform_.\n"
          ],
          "name": "stderr"
        },
        {
          "output_type": "stream",
          "text": [
            "Epoch 0: train loss: 1.2569564580917358\n",
            "Epoch 100: train loss: 0.7505775690078735\n",
            "Epoch 200: train loss: 0.728386402130127\n",
            "Epoch 300: train loss: 0.7226235270500183\n",
            "Epoch 400: train loss: 0.7117381691932678\n",
            "Epoch 500: train loss: 0.687069833278656\n",
            "Epoch 600: train loss: 0.6704275012016296\n",
            "Epoch 700: train loss: 0.6684301495552063\n",
            "Epoch 800: train loss: 0.6678262948989868\n",
            "Epoch 900: train loss: 0.6675393581390381\n",
            "**************************\n",
            "Test loss after Training 0.6677685379981995\n",
            "R^2 0.32730288904763216\n"
          ],
          "name": "stdout"
        }
      ]
    },
    {
      "cell_type": "code",
      "metadata": {
        "id": "09b-Pu91gBJ-",
        "colab_type": "code",
        "outputId": "7b0cbfae-5231-4708-d2eb-ff24b0c081d5",
        "colab": {
          "base_uri": "https://localhost:8080/",
          "height": 1000
        }
      },
      "source": [
        "sgd(3, 30, 0.4, 0.5, 6000, x_train_2, y_train_2, x_test_2, y_test_2)"
      ],
      "execution_count": 0,
      "outputs": [
        {
          "output_type": "stream",
          "text": [
            "/usr/local/lib/python3.6/dist-packages/ipykernel_launcher.py:32: UserWarning: nn.init.xavier_uniform is now deprecated in favor of nn.init.xavier_uniform_.\n"
          ],
          "name": "stderr"
        },
        {
          "output_type": "stream",
          "text": [
            "Epoch 0: train loss: 1.2390358448028564\n",
            "Epoch 100: train loss: 0.727908194065094\n",
            "Epoch 200: train loss: 0.6951272487640381\n",
            "Epoch 300: train loss: 0.669714629650116\n",
            "Epoch 400: train loss: 0.6656448841094971\n",
            "Epoch 500: train loss: 0.6623812317848206\n",
            "Epoch 600: train loss: 0.6618025302886963\n",
            "Epoch 700: train loss: 0.6636689901351929\n",
            "Epoch 800: train loss: 0.6631391048431396\n",
            "Epoch 900: train loss: 0.6622391939163208\n",
            "Epoch 1000: train loss: 0.6616724133491516\n",
            "Epoch 1100: train loss: 0.6610192656517029\n",
            "Epoch 1200: train loss: 0.6606603860855103\n",
            "Epoch 1300: train loss: 0.6603131890296936\n",
            "Epoch 1400: train loss: 0.6600267291069031\n",
            "Epoch 1500: train loss: 0.6600019931793213\n",
            "Epoch 1600: train loss: 0.6596554517745972\n",
            "Epoch 1700: train loss: 0.6594010591506958\n",
            "Epoch 1800: train loss: 0.6592497229576111\n",
            "Epoch 1900: train loss: 0.6590829491615295\n",
            "Epoch 2000: train loss: 0.6588652729988098\n",
            "Epoch 2100: train loss: 0.6586660146713257\n",
            "Epoch 2200: train loss: 0.6584667563438416\n",
            "Epoch 2300: train loss: 0.6582131385803223\n",
            "Epoch 2400: train loss: 0.6587965488433838\n",
            "Epoch 2500: train loss: 0.657718300819397\n",
            "Epoch 2600: train loss: 0.6579916477203369\n",
            "Epoch 2700: train loss: 0.6580389142036438\n",
            "Epoch 2800: train loss: 0.6577864289283752\n",
            "Epoch 2900: train loss: 0.6577106714248657\n",
            "Epoch 3000: train loss: 0.6575679183006287\n",
            "Epoch 3100: train loss: 0.6573482751846313\n",
            "Epoch 3200: train loss: 0.6573418974876404\n",
            "Epoch 3300: train loss: 0.6573487520217896\n",
            "Epoch 3400: train loss: 0.657351553440094\n",
            "Epoch 3500: train loss: 0.6572508811950684\n",
            "Epoch 3600: train loss: 0.6574546694755554\n",
            "Epoch 3700: train loss: 0.6572626233100891\n",
            "Epoch 3800: train loss: 0.6559901833534241\n",
            "Epoch 3900: train loss: 0.656860888004303\n",
            "Epoch 4000: train loss: 0.6568304896354675\n",
            "Epoch 4100: train loss: 0.655490517616272\n",
            "Epoch 4200: train loss: 0.6562040448188782\n",
            "Epoch 4300: train loss: 0.6550019383430481\n",
            "Epoch 4400: train loss: 0.6591806411743164\n",
            "Epoch 4500: train loss: 0.6552798748016357\n",
            "Epoch 4600: train loss: 0.6546756029129028\n",
            "Epoch 4700: train loss: 0.6548212766647339\n",
            "Epoch 4800: train loss: 0.6545423269271851\n",
            "Epoch 4900: train loss: 0.6551874876022339\n",
            "Epoch 5000: train loss: 0.6573935747146606\n",
            "Epoch 5100: train loss: 0.6547780632972717\n",
            "Epoch 5200: train loss: 0.6546664237976074\n",
            "Epoch 5300: train loss: 0.6566285490989685\n",
            "Epoch 5400: train loss: 0.6551229357719421\n",
            "Epoch 5500: train loss: 0.6544243097305298\n",
            "Epoch 5600: train loss: 0.654498279094696\n",
            "Epoch 5700: train loss: 0.6544451117515564\n",
            "Epoch 5800: train loss: 0.6541106700897217\n",
            "Epoch 5900: train loss: 0.654170036315918\n",
            "**************************\n",
            "Test loss after Training 0.6548277735710144\n",
            "R^2 0.3403391524975854\n"
          ],
          "name": "stdout"
        }
      ]
    },
    {
      "cell_type": "code",
      "metadata": {
        "id": "FTZP4jfYqc8M",
        "colab_type": "code",
        "outputId": "51796ac7-89a5-4668-ba6c-9ed04561e21c",
        "colab": {
          "base_uri": "https://localhost:8080/",
          "height": 297
        }
      },
      "source": [
        "data2 = data.loc[data['profile_id'].isin((20,20))]\n",
        "#data2 = data.loc[data['profile_id'].isin((75,57,61,60,77,71,10,72,69,31,63,41,73,42,45,81))]\n",
        "\n",
        "data2.describe()"
      ],
      "execution_count": 6,
      "outputs": [
        {
          "output_type": "execute_result",
          "data": {
            "text/html": [
              "<div>\n",
              "<style scoped>\n",
              "    .dataframe tbody tr th:only-of-type {\n",
              "        vertical-align: middle;\n",
              "    }\n",
              "\n",
              "    .dataframe tbody tr th {\n",
              "        vertical-align: top;\n",
              "    }\n",
              "\n",
              "    .dataframe thead th {\n",
              "        text-align: right;\n",
              "    }\n",
              "</style>\n",
              "<table border=\"1\" class=\"dataframe\">\n",
              "  <thead>\n",
              "    <tr style=\"text-align: right;\">\n",
              "      <th></th>\n",
              "      <th>ambient</th>\n",
              "      <th>coolant</th>\n",
              "      <th>u_d</th>\n",
              "      <th>u_q</th>\n",
              "      <th>motor_speed</th>\n",
              "      <th>torque</th>\n",
              "      <th>i_d</th>\n",
              "      <th>i_q</th>\n",
              "      <th>pm</th>\n",
              "      <th>stator_yoke</th>\n",
              "      <th>stator_tooth</th>\n",
              "      <th>stator_winding</th>\n",
              "      <th>profile_id</th>\n",
              "    </tr>\n",
              "  </thead>\n",
              "  <tbody>\n",
              "    <tr>\n",
              "      <th>count</th>\n",
              "      <td>43970.000000</td>\n",
              "      <td>43970.000000</td>\n",
              "      <td>43970.000000</td>\n",
              "      <td>43970.000000</td>\n",
              "      <td>43970.000000</td>\n",
              "      <td>43970.000000</td>\n",
              "      <td>43970.000000</td>\n",
              "      <td>43970.000000</td>\n",
              "      <td>43970.000000</td>\n",
              "      <td>43970.000000</td>\n",
              "      <td>43970.000000</td>\n",
              "      <td>43970.000000</td>\n",
              "      <td>43970.0</td>\n",
              "    </tr>\n",
              "    <tr>\n",
              "      <th>mean</th>\n",
              "      <td>0.003994</td>\n",
              "      <td>-0.427462</td>\n",
              "      <td>-0.572010</td>\n",
              "      <td>0.214911</td>\n",
              "      <td>0.288956</td>\n",
              "      <td>0.416595</td>\n",
              "      <td>-0.129084</td>\n",
              "      <td>0.422204</td>\n",
              "      <td>0.003662</td>\n",
              "      <td>-0.333303</td>\n",
              "      <td>-0.228260</td>\n",
              "      <td>-0.156419</td>\n",
              "      <td>20.0</td>\n",
              "    </tr>\n",
              "    <tr>\n",
              "      <th>std</th>\n",
              "      <td>0.853396</td>\n",
              "      <td>0.953282</td>\n",
              "      <td>0.703493</td>\n",
              "      <td>1.018430</td>\n",
              "      <td>1.047198</td>\n",
              "      <td>0.612425</td>\n",
              "      <td>1.059409</td>\n",
              "      <td>0.621533</td>\n",
              "      <td>1.203452</td>\n",
              "      <td>0.975891</td>\n",
              "      <td>1.064496</td>\n",
              "      <td>1.141369</td>\n",
              "      <td>0.0</td>\n",
              "    </tr>\n",
              "    <tr>\n",
              "      <th>min</th>\n",
              "      <td>-2.748476</td>\n",
              "      <td>-1.206490</td>\n",
              "      <td>-1.633768</td>\n",
              "      <td>-1.309618</td>\n",
              "      <td>-1.222435</td>\n",
              "      <td>-0.274228</td>\n",
              "      <td>-2.075487</td>\n",
              "      <td>-0.247344</td>\n",
              "      <td>-2.485854</td>\n",
              "      <td>-1.813600</td>\n",
              "      <td>-2.057181</td>\n",
              "      <td>-1.997400</td>\n",
              "      <td>20.0</td>\n",
              "    </tr>\n",
              "    <tr>\n",
              "      <th>25%</th>\n",
              "      <td>-0.624265</td>\n",
              "      <td>-1.076557</td>\n",
              "      <td>-1.165158</td>\n",
              "      <td>-0.714409</td>\n",
              "      <td>-0.546069</td>\n",
              "      <td>-0.236301</td>\n",
              "      <td>-1.227339</td>\n",
              "      <td>-0.245685</td>\n",
              "      <td>-1.022454</td>\n",
              "      <td>-1.093134</td>\n",
              "      <td>-1.065625</td>\n",
              "      <td>-0.976909</td>\n",
              "      <td>20.0</td>\n",
              "    </tr>\n",
              "    <tr>\n",
              "      <th>50%</th>\n",
              "      <td>-0.125294</td>\n",
              "      <td>-1.063217</td>\n",
              "      <td>-0.582293</td>\n",
              "      <td>-0.050716</td>\n",
              "      <td>0.265573</td>\n",
              "      <td>0.290629</td>\n",
              "      <td>0.274348</td>\n",
              "      <td>0.276381</td>\n",
              "      <td>-0.206356</td>\n",
              "      <td>-0.442250</td>\n",
              "      <td>-0.013375</td>\n",
              "      <td>-0.314944</td>\n",
              "      <td>20.0</td>\n",
              "    </tr>\n",
              "    <tr>\n",
              "      <th>75%</th>\n",
              "      <td>0.688011</td>\n",
              "      <td>0.987685</td>\n",
              "      <td>0.292401</td>\n",
              "      <td>0.922568</td>\n",
              "      <td>1.212486</td>\n",
              "      <td>0.806917</td>\n",
              "      <td>1.029129</td>\n",
              "      <td>0.897430</td>\n",
              "      <td>1.124292</td>\n",
              "      <td>0.457208</td>\n",
              "      <td>0.629612</td>\n",
              "      <td>0.693692</td>\n",
              "      <td>20.0</td>\n",
              "    </tr>\n",
              "    <tr>\n",
              "      <th>max</th>\n",
              "      <td>2.967117</td>\n",
              "      <td>1.094156</td>\n",
              "      <td>0.331852</td>\n",
              "      <td>1.785646</td>\n",
              "      <td>1.888867</td>\n",
              "      <td>2.662035</td>\n",
              "      <td>1.033528</td>\n",
              "      <td>2.595456</td>\n",
              "      <td>2.704275</td>\n",
              "      <td>1.637704</td>\n",
              "      <td>1.957895</td>\n",
              "      <td>2.045312</td>\n",
              "      <td>20.0</td>\n",
              "    </tr>\n",
              "  </tbody>\n",
              "</table>\n",
              "</div>"
            ],
            "text/plain": [
              "            ambient       coolant  ...  stator_winding  profile_id\n",
              "count  43970.000000  43970.000000  ...    43970.000000     43970.0\n",
              "mean       0.003994     -0.427462  ...       -0.156419        20.0\n",
              "std        0.853396      0.953282  ...        1.141369         0.0\n",
              "min       -2.748476     -1.206490  ...       -1.997400        20.0\n",
              "25%       -0.624265     -1.076557  ...       -0.976909        20.0\n",
              "50%       -0.125294     -1.063217  ...       -0.314944        20.0\n",
              "75%        0.688011      0.987685  ...        0.693692        20.0\n",
              "max        2.967117      1.094156  ...        2.045312        20.0\n",
              "\n",
              "[8 rows x 13 columns]"
            ]
          },
          "metadata": {
            "tags": []
          },
          "execution_count": 6
        }
      ]
    },
    {
      "cell_type": "code",
      "metadata": {
        "id": "BHTmk2OsxsSK",
        "colab_type": "code",
        "outputId": "3c44d846-6eb8-4c41-9ce6-348709f11825",
        "colab": {
          "base_uri": "https://localhost:8080/",
          "height": 34
        }
      },
      "source": [
        "from sklearn.model_selection import train_test_split\n",
        "from sklearn.metrics import r2_score\n",
        "\n",
        "torch.cuda.empty_cache()\n",
        "torch.cuda.reset_max_memory_cached\n",
        "\n",
        "xTrain, xTest, yTrain, yTest = train_test_split(data2.drop([\"motor_speed\", \"profile_id\"],axis=1).to_numpy(), pd.DataFrame(data2['motor_speed']).to_numpy(), test_size = 0.3, random_state = 0)\n",
        "\n",
        "x_train = torch.FloatTensor(xTrain)\n",
        "y_train = torch.FloatTensor(yTrain)\n",
        "x_test = torch.FloatTensor(xTest)\n",
        "y_test = torch.FloatTensor(yTest)\n",
        "print(x_train.shape)"
      ],
      "execution_count": 7,
      "outputs": [
        {
          "output_type": "stream",
          "text": [
            "torch.Size([30779, 11])\n"
          ],
          "name": "stdout"
        }
      ]
    },
    {
      "cell_type": "code",
      "metadata": {
        "id": "KuAhe9cAwWB3",
        "colab_type": "code",
        "outputId": "f5985237-3d48-423a-a15e-790ec9086644",
        "colab": {
          "base_uri": "https://localhost:8080/",
          "height": 181
        }
      },
      "source": [
        "losses = sgd(11, 6, 0.5, 0.9, 1000, x_train, y_train, x_test, y_test, 512)\n",
        "print(losses[-1])"
      ],
      "execution_count": 0,
      "outputs": [
        {
          "output_type": "error",
          "ename": "NameError",
          "evalue": "ignored",
          "traceback": [
            "\u001b[0;31m---------------------------------------------------------------------------\u001b[0m",
            "\u001b[0;31mNameError\u001b[0m                                 Traceback (most recent call last)",
            "\u001b[0;32m<ipython-input-8-887db2d9bc49>\u001b[0m in \u001b[0;36m<module>\u001b[0;34m()\u001b[0m\n\u001b[0;32m----> 1\u001b[0;31m \u001b[0mlosses\u001b[0m \u001b[0;34m=\u001b[0m \u001b[0msgd\u001b[0m\u001b[0;34m(\u001b[0m\u001b[0;36m11\u001b[0m\u001b[0;34m,\u001b[0m \u001b[0;36m6\u001b[0m\u001b[0;34m,\u001b[0m \u001b[0;36m0.5\u001b[0m\u001b[0;34m,\u001b[0m \u001b[0;36m0.9\u001b[0m\u001b[0;34m,\u001b[0m \u001b[0;36m1000\u001b[0m\u001b[0;34m,\u001b[0m \u001b[0mx_train\u001b[0m\u001b[0;34m,\u001b[0m \u001b[0my_train\u001b[0m\u001b[0;34m,\u001b[0m \u001b[0mx_test\u001b[0m\u001b[0;34m,\u001b[0m \u001b[0my_test\u001b[0m\u001b[0;34m,\u001b[0m \u001b[0;36m512\u001b[0m\u001b[0;34m)\u001b[0m\u001b[0;34m\u001b[0m\u001b[0;34m\u001b[0m\u001b[0m\n\u001b[0m\u001b[1;32m      2\u001b[0m \u001b[0mprint\u001b[0m\u001b[0;34m(\u001b[0m\u001b[0mlosses\u001b[0m\u001b[0;34m[\u001b[0m\u001b[0;34m-\u001b[0m\u001b[0;36m1\u001b[0m\u001b[0;34m]\u001b[0m\u001b[0;34m)\u001b[0m\u001b[0;34m\u001b[0m\u001b[0;34m\u001b[0m\u001b[0m\n",
            "\u001b[0;31mNameError\u001b[0m: name 'sgd' is not defined"
          ]
        }
      ]
    },
    {
      "cell_type": "code",
      "metadata": {
        "id": "aH3nDKWTxjY6",
        "colab_type": "code",
        "outputId": "f102733c-56c1-407a-e43a-9f407f68c4bf",
        "colab": {
          "base_uri": "https://localhost:8080/",
          "height": 156
        }
      },
      "source": [
        "losses = adam(11, 11, 1000, x_train, y_train, x_test, y_test, 256)\n",
        "print(losses[-1])"
      ],
      "execution_count": 0,
      "outputs": [
        {
          "output_type": "stream",
          "text": [
            "/usr/local/lib/python3.6/dist-packages/ipykernel_launcher.py:32: UserWarning: nn.init.xavier_uniform is now deprecated in favor of nn.init.xavier_uniform_.\n",
            "/usr/local/lib/python3.6/dist-packages/torch/nn/modules/loss.py:443: UserWarning: Using a target size (torch.Size([256, 1])) that is different to the input size (torch.Size([256])). This will likely lead to incorrect results due to broadcasting. Please ensure they have the same size.\n",
            "  return F.mse_loss(input, target, reduction=self.reduction)\n"
          ],
          "name": "stderr"
        },
        {
          "output_type": "stream",
          "text": [
            "**************************\n",
            "Test loss after Training 1.043631911277771\n",
            "R^2 -0.0012538434413960076\n",
            "tensor(1.1279, device='cuda:0', grad_fn=<MseLossBackward>)\n"
          ],
          "name": "stdout"
        }
      ]
    },
    {
      "cell_type": "code",
      "metadata": {
        "id": "LAdJobCVxayu",
        "colab_type": "code",
        "colab": {}
      },
      "source": [
        "adam(11, 60, 50, x_train, y_train, x_test, y_test, 256) ' 1.04, 0.0017'"
      ],
      "execution_count": 0,
      "outputs": []
    },
    {
      "cell_type": "markdown",
      "metadata": {
        "id": "LyX8e6G-XCJf",
        "colab_type": "text"
      },
      "source": [
        "adam(11, 60, 50, x_train, y_train, x_test, y_test, 256) ' 1.04, 0.0017'\n",
        "\n",
        "adam(11, 60, 50, x_train, y_train, x_test, y_test, 512) 1.10, 0.004\n",
        "\n",
        "losses = adam(11, 60, 50, x_train, y_train, x_test, y_test, 128) 1.07, 0.013"
      ]
    },
    {
      "cell_type": "code",
      "metadata": {
        "id": "HTq-BXVckXFK",
        "colab_type": "code",
        "colab": {}
      },
      "source": [
        "def adamWMB(inputs, hidden_nodes, epoch, x_train, y_train, x_test, y_test):\n",
        "  model = Feedforward(inputs, hidden_nodes)\n",
        "  model.to(device)\n",
        "  model.apply(init_weights)\n",
        "  criterion = torch.nn.MSELoss()\n",
        "  optimizer = torch.optim.Adam(model.parameters())\n",
        "\n",
        "  model.train()\n",
        "  \n",
        "  losses = []\n",
        "  for epoch in range(epoch):\n",
        "    \n",
        "    optimizer.zero_grad()\n",
        "    x_batch = x_train.to(device)\n",
        "    y_batch = y_train.to(device)\n",
        "\n",
        "    # Forward pass\n",
        "    y_pred = model(x_batch)\n",
        "    # Compute Loss\n",
        "    loss = criterion(y_pred.squeeze(), y_batch)\n",
        "    losses.append(loss)\n",
        "    if epoch % 100 == 0:\n",
        "        print('Epoch {}: train loss: {}'.format(epoch, loss.item()))\n",
        "    # Backward pass\n",
        "    loss.backward()\n",
        "    optimizer.step()\n",
        "\n",
        "  print('**************************')\n",
        "  model.eval()\n",
        "  y_pred = model(x_test.to(device))\n",
        "  after_train = criterion(y_pred.squeeze(), y_test.to(device).squeeze()) \n",
        "  print('Test loss after Training' , after_train.item())\n",
        "\n",
        "  r_square = r2_score(y_test, y_pred.cpu().detach().numpy().squeeze())\n",
        "  print('R^2 '+ str(r_square))\n",
        "\n",
        "  return losses"
      ],
      "execution_count": 0,
      "outputs": []
    },
    {
      "cell_type": "code",
      "metadata": {
        "id": "QKqcln-1kkux",
        "colab_type": "code",
        "outputId": "9ca33f9b-ad18-4bfa-8890-6bb8a8b32cb1",
        "colab": {
          "base_uri": "https://localhost:8080/",
          "height": 181
        }
      },
      "source": [
        "losses = adamWMB(11, 11, 1000, x_train, y_train, x_test, y_test)\n",
        "print(losses[-1])"
      ],
      "execution_count": 0,
      "outputs": [
        {
          "output_type": "error",
          "ename": "NameError",
          "evalue": "ignored",
          "traceback": [
            "\u001b[0;31m---------------------------------------------------------------------------\u001b[0m",
            "\u001b[0;31mNameError\u001b[0m                                 Traceback (most recent call last)",
            "\u001b[0;32m<ipython-input-9-89aaa68a18b1>\u001b[0m in \u001b[0;36m<module>\u001b[0;34m()\u001b[0m\n\u001b[0;32m----> 1\u001b[0;31m \u001b[0mlosses\u001b[0m \u001b[0;34m=\u001b[0m \u001b[0madamWMB\u001b[0m\u001b[0;34m(\u001b[0m\u001b[0;36m11\u001b[0m\u001b[0;34m,\u001b[0m \u001b[0;36m11\u001b[0m\u001b[0;34m,\u001b[0m \u001b[0;36m1000\u001b[0m\u001b[0;34m,\u001b[0m \u001b[0mx_train\u001b[0m\u001b[0;34m,\u001b[0m \u001b[0my_train\u001b[0m\u001b[0;34m,\u001b[0m \u001b[0mx_test\u001b[0m\u001b[0;34m,\u001b[0m \u001b[0my_test\u001b[0m\u001b[0;34m)\u001b[0m\u001b[0;34m\u001b[0m\u001b[0;34m\u001b[0m\u001b[0m\n\u001b[0m\u001b[1;32m      2\u001b[0m \u001b[0mprint\u001b[0m\u001b[0;34m(\u001b[0m\u001b[0mlosses\u001b[0m\u001b[0;34m[\u001b[0m\u001b[0;34m-\u001b[0m\u001b[0;36m1\u001b[0m\u001b[0;34m]\u001b[0m\u001b[0;34m)\u001b[0m\u001b[0;34m\u001b[0m\u001b[0;34m\u001b[0m\u001b[0m\n",
            "\u001b[0;31mNameError\u001b[0m: name 'adamWMB' is not defined"
          ]
        }
      ]
    },
    {
      "cell_type": "code",
      "metadata": {
        "id": "CsRnF9ySnnxs",
        "colab_type": "code",
        "outputId": "b850c067-d9c3-45d1-8788-de9dbbbc1c13",
        "colab": {
          "base_uri": "https://localhost:8080/",
          "height": 34
        }
      },
      "source": [
        "from sklearn.model_selection import train_test_split\n",
        "from sklearn.metrics import r2_score\n",
        "\n",
        "torch.cuda.empty_cache()\n",
        "torch.cuda.reset_max_memory_cached\n",
        "\n",
        "xTrain, xTest, yTrain, yTest = train_test_split(data2.drop([\"motor_speed\", \"profile_id\", \"ambient\",\t\"coolant\",\t\"u_d\",\t\"torque\", \"stator_yoke\", \"i_d\", \"i_q\"],axis=1).to_numpy(), pd.DataFrame(data2['motor_speed']).to_numpy(), test_size = 0.3, random_state = 0)\n",
        "\n",
        "x_train = torch.FloatTensor(xTrain)\n",
        "y_train = torch.FloatTensor(yTrain)\n",
        "x_test = torch.FloatTensor(xTest)\n",
        "y_test = torch.FloatTensor(yTest)\n",
        "print(x_train.shape)"
      ],
      "execution_count": 9,
      "outputs": [
        {
          "output_type": "stream",
          "text": [
            "torch.Size([30779, 4])\n"
          ],
          "name": "stdout"
        }
      ]
    },
    {
      "cell_type": "code",
      "metadata": {
        "id": "j0v-zxzaoC2y",
        "colab_type": "code",
        "outputId": "2b09c5bb-f129-4f66-f35e-141b2b7fc3fc",
        "colab": {
          "base_uri": "https://localhost:8080/",
          "height": 1000
        }
      },
      "source": [
        "losses = adamWMB(4, 8, 5000, x_train, y_train, x_test, y_test)\n",
        "print(losses[-1])"
      ],
      "execution_count": 0,
      "outputs": [
        {
          "output_type": "stream",
          "text": [
            "/usr/local/lib/python3.6/dist-packages/ipykernel_launcher.py:32: UserWarning: nn.init.xavier_uniform is now deprecated in favor of nn.init.xavier_uniform_.\n",
            "/usr/local/lib/python3.6/dist-packages/torch/nn/modules/loss.py:443: UserWarning: Using a target size (torch.Size([30779, 1])) that is different to the input size (torch.Size([30779])). This will likely lead to incorrect results due to broadcasting. Please ensure they have the same size.\n",
            "  return F.mse_loss(input, target, reduction=self.reduction)\n"
          ],
          "name": "stderr"
        },
        {
          "output_type": "stream",
          "text": [
            "Epoch 0: train loss: 1.1400439739227295\n",
            "Epoch 100: train loss: 1.1002846956253052\n",
            "Epoch 200: train loss: 1.0955357551574707\n",
            "Epoch 300: train loss: 1.0953630208969116\n",
            "Epoch 400: train loss: 1.0953270196914673\n",
            "Epoch 500: train loss: 1.0953073501586914\n",
            "Epoch 600: train loss: 1.0953000783920288\n",
            "Epoch 700: train loss: 1.095294713973999\n",
            "Epoch 800: train loss: 1.095292329788208\n",
            "Epoch 900: train loss: 1.095288634300232\n",
            "Epoch 1000: train loss: 1.0952889919281006\n",
            "Epoch 1100: train loss: 1.0952869653701782\n",
            "Epoch 1200: train loss: 1.0952849388122559\n",
            "Epoch 1300: train loss: 1.0952845811843872\n",
            "Epoch 1400: train loss: 1.095284104347229\n",
            "Epoch 1500: train loss: 1.095283031463623\n",
            "Epoch 1600: train loss: 1.0952836275100708\n",
            "Epoch 1700: train loss: 1.095283031463623\n",
            "Epoch 1800: train loss: 1.095283031463623\n",
            "Epoch 1900: train loss: 1.0952824354171753\n",
            "Epoch 2000: train loss: 1.0952818393707275\n",
            "Epoch 2100: train loss: 1.0952813625335693\n",
            "Epoch 2200: train loss: 1.0952807664871216\n",
            "Epoch 2300: train loss: 1.0952801704406738\n",
            "Epoch 2400: train loss: 1.0952799320220947\n",
            "Epoch 2500: train loss: 1.0952799320220947\n",
            "Epoch 2600: train loss: 1.0952794551849365\n",
            "Epoch 2700: train loss: 1.0952783823013306\n",
            "Epoch 2800: train loss: 1.0952783823013306\n",
            "Epoch 2900: train loss: 1.0952779054641724\n",
            "Epoch 3000: train loss: 1.0952783823013306\n",
            "Epoch 3100: train loss: 1.0952783823013306\n",
            "Epoch 3200: train loss: 1.0952779054641724\n",
            "Epoch 3300: train loss: 1.0952777862548828\n",
            "Epoch 3400: train loss: 1.0952775478363037\n",
            "Epoch 3500: train loss: 1.0952773094177246\n",
            "Epoch 3600: train loss: 1.0952779054641724\n",
            "Epoch 3700: train loss: 1.0952775478363037\n",
            "Epoch 3800: train loss: 1.0952775478363037\n",
            "Epoch 3900: train loss: 1.0952781438827515\n",
            "Epoch 4000: train loss: 1.0952786207199097\n",
            "Epoch 4100: train loss: 1.0952794551849365\n",
            "Epoch 4200: train loss: 1.0952799320220947\n",
            "Epoch 4300: train loss: 1.0952788591384888\n",
            "Epoch 4400: train loss: 1.0952786207199097\n",
            "Epoch 4500: train loss: 1.0952786207199097\n",
            "Epoch 4600: train loss: 1.095279335975647\n",
            "Epoch 4700: train loss: 1.0952788591384888\n",
            "Epoch 4800: train loss: 1.0952787399291992\n",
            "Epoch 4900: train loss: 1.095278024673462\n",
            "**************************\n",
            "Test loss after Training 1.0996567010879517\n",
            "R^2 -4.4250110572630064e-05\n",
            "tensor(1.0953, device='cuda:0', grad_fn=<MseLossBackward>)\n"
          ],
          "name": "stdout"
        }
      ]
    },
    {
      "cell_type": "code",
      "metadata": {
        "id": "OVVcx2p2Lw4X",
        "colab_type": "code",
        "outputId": "a0dc97a4-ed35-45da-9df6-d2d66283ae9c",
        "colab": {
          "base_uri": "https://localhost:8080/",
          "height": 297
        }
      },
      "source": [
        "data2 = data.loc[data['profile_id'].isin((32,32))]\n",
        "data2.describe()"
      ],
      "execution_count": 10,
      "outputs": [
        {
          "output_type": "execute_result",
          "data": {
            "text/html": [
              "<div>\n",
              "<style scoped>\n",
              "    .dataframe tbody tr th:only-of-type {\n",
              "        vertical-align: middle;\n",
              "    }\n",
              "\n",
              "    .dataframe tbody tr th {\n",
              "        vertical-align: top;\n",
              "    }\n",
              "\n",
              "    .dataframe thead th {\n",
              "        text-align: right;\n",
              "    }\n",
              "</style>\n",
              "<table border=\"1\" class=\"dataframe\">\n",
              "  <thead>\n",
              "    <tr style=\"text-align: right;\">\n",
              "      <th></th>\n",
              "      <th>ambient</th>\n",
              "      <th>coolant</th>\n",
              "      <th>u_d</th>\n",
              "      <th>u_q</th>\n",
              "      <th>motor_speed</th>\n",
              "      <th>torque</th>\n",
              "      <th>i_d</th>\n",
              "      <th>i_q</th>\n",
              "      <th>pm</th>\n",
              "      <th>stator_yoke</th>\n",
              "      <th>stator_tooth</th>\n",
              "      <th>stator_winding</th>\n",
              "      <th>profile_id</th>\n",
              "    </tr>\n",
              "  </thead>\n",
              "  <tbody>\n",
              "    <tr>\n",
              "      <th>count</th>\n",
              "      <td>20959.000000</td>\n",
              "      <td>20959.000000</td>\n",
              "      <td>20959.000000</td>\n",
              "      <td>20959.000000</td>\n",
              "      <td>20959.000000</td>\n",
              "      <td>20959.000000</td>\n",
              "      <td>20959.000000</td>\n",
              "      <td>20959.000000</td>\n",
              "      <td>20959.000000</td>\n",
              "      <td>20959.000000</td>\n",
              "      <td>20959.000000</td>\n",
              "      <td>20959.000000</td>\n",
              "      <td>20959.0</td>\n",
              "    </tr>\n",
              "    <tr>\n",
              "      <th>mean</th>\n",
              "      <td>-1.840677</td>\n",
              "      <td>-1.048970</td>\n",
              "      <td>-1.154498</td>\n",
              "      <td>0.241904</td>\n",
              "      <td>0.377894</td>\n",
              "      <td>0.936255</td>\n",
              "      <td>-0.806841</td>\n",
              "      <td>0.871651</td>\n",
              "      <td>-0.189344</td>\n",
              "      <td>-0.581151</td>\n",
              "      <td>-0.205337</td>\n",
              "      <td>0.095749</td>\n",
              "      <td>32.0</td>\n",
              "    </tr>\n",
              "    <tr>\n",
              "      <th>std</th>\n",
              "      <td>0.661372</td>\n",
              "      <td>0.020049</td>\n",
              "      <td>0.536120</td>\n",
              "      <td>0.974673</td>\n",
              "      <td>0.362421</td>\n",
              "      <td>0.629053</td>\n",
              "      <td>1.188893</td>\n",
              "      <td>0.560446</td>\n",
              "      <td>0.968968</td>\n",
              "      <td>0.604756</td>\n",
              "      <td>0.933359</td>\n",
              "      <td>1.195910</td>\n",
              "      <td>0.0</td>\n",
              "    </tr>\n",
              "    <tr>\n",
              "      <th>min</th>\n",
              "      <td>-3.400936</td>\n",
              "      <td>-1.137965</td>\n",
              "      <td>-1.651149</td>\n",
              "      <td>-1.285167</td>\n",
              "      <td>-1.222434</td>\n",
              "      <td>-0.250404</td>\n",
              "      <td>-2.751558</td>\n",
              "      <td>-0.249040</td>\n",
              "      <td>-2.631991</td>\n",
              "      <td>-1.789905</td>\n",
              "      <td>-2.044796</td>\n",
              "      <td>-1.984475</td>\n",
              "      <td>32.0</td>\n",
              "    </tr>\n",
              "    <tr>\n",
              "      <th>25%</th>\n",
              "      <td>-2.485852</td>\n",
              "      <td>-1.062405</td>\n",
              "      <td>-1.608952</td>\n",
              "      <td>-0.645713</td>\n",
              "      <td>0.168175</td>\n",
              "      <td>0.560081</td>\n",
              "      <td>-1.966808</td>\n",
              "      <td>0.543976</td>\n",
              "      <td>-0.878774</td>\n",
              "      <td>-1.090473</td>\n",
              "      <td>-1.067004</td>\n",
              "      <td>-0.976977</td>\n",
              "      <td>32.0</td>\n",
              "    </tr>\n",
              "    <tr>\n",
              "      <th>50%</th>\n",
              "      <td>-1.640836</td>\n",
              "      <td>-1.048991</td>\n",
              "      <td>-1.421801</td>\n",
              "      <td>0.158007</td>\n",
              "      <td>0.240685</td>\n",
              "      <td>0.952271</td>\n",
              "      <td>-0.515749</td>\n",
              "      <td>0.801264</td>\n",
              "      <td>-0.362325</td>\n",
              "      <td>-0.709785</td>\n",
              "      <td>-0.303793</td>\n",
              "      <td>-0.011668</td>\n",
              "      <td>32.0</td>\n",
              "    </tr>\n",
              "    <tr>\n",
              "      <th>75%</th>\n",
              "      <td>-1.382923</td>\n",
              "      <td>-1.036711</td>\n",
              "      <td>-0.872845</td>\n",
              "      <td>0.991604</td>\n",
              "      <td>0.822778</td>\n",
              "      <td>1.648522</td>\n",
              "      <td>0.375692</td>\n",
              "      <td>1.379946</td>\n",
              "      <td>0.631322</td>\n",
              "      <td>-0.030489</td>\n",
              "      <td>0.680264</td>\n",
              "      <td>1.213410</td>\n",
              "      <td>32.0</td>\n",
              "    </tr>\n",
              "    <tr>\n",
              "      <th>max</th>\n",
              "      <td>-0.424162</td>\n",
              "      <td>-0.946537</td>\n",
              "      <td>0.350125</td>\n",
              "      <td>1.591818</td>\n",
              "      <td>0.941949</td>\n",
              "      <td>2.040346</td>\n",
              "      <td>1.038081</td>\n",
              "      <td>1.781082</td>\n",
              "      <td>1.595702</td>\n",
              "      <td>0.571272</td>\n",
              "      <td>1.534746</td>\n",
              "      <td>2.275933</td>\n",
              "      <td>32.0</td>\n",
              "    </tr>\n",
              "  </tbody>\n",
              "</table>\n",
              "</div>"
            ],
            "text/plain": [
              "            ambient       coolant  ...  stator_winding  profile_id\n",
              "count  20959.000000  20959.000000  ...    20959.000000     20959.0\n",
              "mean      -1.840677     -1.048970  ...        0.095749        32.0\n",
              "std        0.661372      0.020049  ...        1.195910         0.0\n",
              "min       -3.400936     -1.137965  ...       -1.984475        32.0\n",
              "25%       -2.485852     -1.062405  ...       -0.976977        32.0\n",
              "50%       -1.640836     -1.048991  ...       -0.011668        32.0\n",
              "75%       -1.382923     -1.036711  ...        1.213410        32.0\n",
              "max       -0.424162     -0.946537  ...        2.275933        32.0\n",
              "\n",
              "[8 rows x 13 columns]"
            ]
          },
          "metadata": {
            "tags": []
          },
          "execution_count": 10
        }
      ]
    },
    {
      "cell_type": "code",
      "metadata": {
        "id": "hO70cWwA2a_z",
        "colab_type": "code",
        "outputId": "d101f08a-f8f4-488f-b8f9-d6ffcebc6255",
        "colab": {
          "base_uri": "https://localhost:8080/",
          "height": 297
        }
      },
      "source": [
        "data2 = data.loc[data['profile_id'].isin((32,32))]\n",
        "\n",
        "temp = data2[['pm','stator_yoke','stator_tooth','stator_winding']]\n",
        "torque = data2[['torque','i_q','u_d']]\n",
        "everything_else = data2[['ambient','coolant','u_q','motor_speed','i_d']]\n",
        "\n",
        "from sklearn.decomposition import PCA\n",
        "pca = PCA(n_components=1)\n",
        "pca_temp = pca.fit_transform(temp)\n",
        "temp_df = pd.DataFrame(data = pca_temp, columns = ['temp_1'])\n",
        "\n",
        "pca = PCA(n_components=1)\n",
        "pca_torque = pca.fit_transform(torque)\n",
        "torque_df = pd.DataFrame(data = pca_torque, columns = ['torque_1'])\n",
        "\n",
        "temporal = pd.concat([temp_df, torque_df], axis = 1)\n",
        "temporal.head()\n",
        "\n",
        "final=pd.concat([temporal, everything_else], axis=1)\n",
        "final.describe()"
      ],
      "execution_count": 11,
      "outputs": [
        {
          "output_type": "execute_result",
          "data": {
            "text/html": [
              "<div>\n",
              "<style scoped>\n",
              "    .dataframe tbody tr th:only-of-type {\n",
              "        vertical-align: middle;\n",
              "    }\n",
              "\n",
              "    .dataframe tbody tr th {\n",
              "        vertical-align: top;\n",
              "    }\n",
              "\n",
              "    .dataframe thead th {\n",
              "        text-align: right;\n",
              "    }\n",
              "</style>\n",
              "<table border=\"1\" class=\"dataframe\">\n",
              "  <thead>\n",
              "    <tr style=\"text-align: right;\">\n",
              "      <th></th>\n",
              "      <th>temp_1</th>\n",
              "      <th>torque_1</th>\n",
              "      <th>ambient</th>\n",
              "      <th>coolant</th>\n",
              "      <th>u_q</th>\n",
              "      <th>motor_speed</th>\n",
              "      <th>i_d</th>\n",
              "    </tr>\n",
              "  </thead>\n",
              "  <tbody>\n",
              "    <tr>\n",
              "      <th>count</th>\n",
              "      <td>2.095900e+04</td>\n",
              "      <td>2.095900e+04</td>\n",
              "      <td>20959.000000</td>\n",
              "      <td>20959.000000</td>\n",
              "      <td>20959.000000</td>\n",
              "      <td>20959.000000</td>\n",
              "      <td>20959.000000</td>\n",
              "    </tr>\n",
              "    <tr>\n",
              "      <th>mean</th>\n",
              "      <td>-5.747267e-16</td>\n",
              "      <td>1.397949e-16</td>\n",
              "      <td>-1.840677</td>\n",
              "      <td>-1.048970</td>\n",
              "      <td>0.241904</td>\n",
              "      <td>0.377894</td>\n",
              "      <td>-0.806841</td>\n",
              "    </tr>\n",
              "    <tr>\n",
              "      <th>std</th>\n",
              "      <td>1.813411e+00</td>\n",
              "      <td>9.544822e-01</td>\n",
              "      <td>0.661372</td>\n",
              "      <td>0.020049</td>\n",
              "      <td>0.974673</td>\n",
              "      <td>0.362421</td>\n",
              "      <td>1.188893</td>\n",
              "    </tr>\n",
              "    <tr>\n",
              "      <th>min</th>\n",
              "      <td>-3.366498e+00</td>\n",
              "      <td>-1.464067e+00</td>\n",
              "      <td>-3.400936</td>\n",
              "      <td>-1.137965</td>\n",
              "      <td>-1.285167</td>\n",
              "      <td>-1.222434</td>\n",
              "      <td>-2.751558</td>\n",
              "    </tr>\n",
              "    <tr>\n",
              "      <th>25%</th>\n",
              "      <td>-1.736903e+00</td>\n",
              "      <td>-9.997110e-01</td>\n",
              "      <td>-2.485852</td>\n",
              "      <td>-1.062405</td>\n",
              "      <td>-0.645713</td>\n",
              "      <td>0.168175</td>\n",
              "      <td>-1.966808</td>\n",
              "    </tr>\n",
              "    <tr>\n",
              "      <th>50%</th>\n",
              "      <td>2.192973e-01</td>\n",
              "      <td>-1.912518e-01</td>\n",
              "      <td>-1.640836</td>\n",
              "      <td>-1.048991</td>\n",
              "      <td>0.158007</td>\n",
              "      <td>0.240685</td>\n",
              "      <td>-0.515749</td>\n",
              "    </tr>\n",
              "    <tr>\n",
              "      <th>75%</th>\n",
              "      <td>1.482243e+00</td>\n",
              "      <td>4.909600e-01</td>\n",
              "      <td>-1.382923</td>\n",
              "      <td>-1.036711</td>\n",
              "      <td>0.991604</td>\n",
              "      <td>0.822778</td>\n",
              "      <td>0.375692</td>\n",
              "    </tr>\n",
              "    <tr>\n",
              "      <th>max</th>\n",
              "      <td>3.809188e+00</td>\n",
              "      <td>2.159406e+00</td>\n",
              "      <td>-0.424162</td>\n",
              "      <td>-0.946537</td>\n",
              "      <td>1.591818</td>\n",
              "      <td>0.941949</td>\n",
              "      <td>1.038081</td>\n",
              "    </tr>\n",
              "  </tbody>\n",
              "</table>\n",
              "</div>"
            ],
            "text/plain": [
              "             temp_1      torque_1  ...   motor_speed           i_d\n",
              "count  2.095900e+04  2.095900e+04  ...  20959.000000  20959.000000\n",
              "mean  -5.747267e-16  1.397949e-16  ...      0.377894     -0.806841\n",
              "std    1.813411e+00  9.544822e-01  ...      0.362421      1.188893\n",
              "min   -3.366498e+00 -1.464067e+00  ...     -1.222434     -2.751558\n",
              "25%   -1.736903e+00 -9.997110e-01  ...      0.168175     -1.966808\n",
              "50%    2.192973e-01 -1.912518e-01  ...      0.240685     -0.515749\n",
              "75%    1.482243e+00  4.909600e-01  ...      0.822778      0.375692\n",
              "max    3.809188e+00  2.159406e+00  ...      0.941949      1.038081\n",
              "\n",
              "[8 rows x 7 columns]"
            ]
          },
          "metadata": {
            "tags": []
          },
          "execution_count": 11
        }
      ]
    },
    {
      "cell_type": "code",
      "metadata": {
        "id": "4t1keSfm2m9h",
        "colab_type": "code",
        "outputId": "4b8af058-49ae-4910-d605-06b674660910",
        "colab": {
          "base_uri": "https://localhost:8080/",
          "height": 34
        }
      },
      "source": [
        "torch.cuda.empty_cache()\n",
        "torch.cuda.reset_max_memory_cached\n",
        "from sklearn.model_selection import train_test_split\n",
        "from sklearn.metrics import r2_score\n",
        "\n",
        "df_x=final.drop([\"motor_speed\"],axis=1)\n",
        "df_y=pd.DataFrame(final['motor_speed']) #motor_speed is dependent variable.\n",
        "\n",
        "x_train,x_test,y_train,y_test = train_test_split(df_x,df_y, test_size=0.33,random_state = 0)\n",
        "x_train.shape"
      ],
      "execution_count": 12,
      "outputs": [
        {
          "output_type": "execute_result",
          "data": {
            "text/plain": [
              "(28085, 6)"
            ]
          },
          "metadata": {
            "tags": []
          },
          "execution_count": 12
        }
      ]
    },
    {
      "cell_type": "code",
      "metadata": {
        "id": "XT9a7_xSNg-q",
        "colab_type": "code",
        "outputId": "02da6725-ae34-4890-ef77-7ba6ec80e475",
        "colab": {
          "base_uri": "https://localhost:8080/",
          "height": 153
        }
      },
      "source": [
        "nans = lambda x_train: x_train[x_train.isnull().any(axis=1)]\n",
        "print(x_train.shape)\n",
        "x_train = x_train.fillna(x_train.mean())\n",
        "print(x_train.shape)\n",
        "print(y_train.shape)\n",
        "y_train = y_train.fillna(y_train.mean())\n",
        "print(y_train.shape)\n",
        "print(x_test.shape)\n",
        "x_test = x_test.fillna(x_test.mean())\n",
        "print(x_test.shape)\n",
        "print(y_test.shape)\n",
        "y_test = y_test.fillna(y_test.mean())\n",
        "print(y_test.shape)"
      ],
      "execution_count": 13,
      "outputs": [
        {
          "output_type": "stream",
          "text": [
            "(28085, 6)\n",
            "(28085, 6)\n",
            "(28085, 1)\n",
            "(28085, 1)\n",
            "(13833, 6)\n",
            "(13833, 6)\n",
            "(13833, 1)\n",
            "(13833, 1)\n"
          ],
          "name": "stdout"
        }
      ]
    },
    {
      "cell_type": "code",
      "metadata": {
        "id": "TIN9VuLN26bw",
        "colab_type": "code",
        "outputId": "a349d5bb-2251-4d5c-d357-deadc8e6dd06",
        "colab": {
          "base_uri": "https://localhost:8080/",
          "height": 68
        }
      },
      "source": [
        "\n",
        "\n",
        "from sklearn.linear_model import LinearRegression\n",
        "lr = LinearRegression().fit(x_train,y_train)\n",
        "\n",
        "y_train_pred = lr.predict(x_train)\n",
        "y_test_pred = lr.predict(x_test)\n",
        "\n",
        "print('Multiple Linear Regression Score : ',lr.score(x_test,y_test))\n",
        "\n",
        "x_train = torch.FloatTensor(x_train.to_numpy())\n",
        "y_train = torch.FloatTensor(y_train.to_numpy())\n",
        "x_test = torch.FloatTensor(x_test.to_numpy())\n",
        "y_test = torch.FloatTensor(y_test.to_numpy())\n",
        "print(x_train[0])\n",
        "print(x_test[0])"
      ],
      "execution_count": 14,
      "outputs": [
        {
          "output_type": "stream",
          "text": [
            "Multiple Linear Regression Score :  0.41676596421441114\n",
            "tensor([-2.4153, -0.1715, -1.8408, -1.0491,  0.2409, -0.8097])\n",
            "tensor([-0.6980, -1.4565, -1.8404, -1.0488,  0.2439, -0.8010])\n"
          ],
          "name": "stdout"
        }
      ]
    },
    {
      "cell_type": "code",
      "metadata": {
        "id": "MldkMaDC5qle",
        "colab_type": "code",
        "colab": {}
      },
      "source": [
        "def sgdWerror(inputs, hidden_nodes, lr, momentum, x_train, y_train, x_test, y_test, batch_size, error):\n",
        "  model = Feedforward(inputs, hidden_nodes)\n",
        "  model.cuda()\n",
        "  model.apply(init_weights)\n",
        "  criterion = torch.nn.MSELoss()\n",
        "  optimizer = torch.optim.SGD(model.parameters(), lr = lr, momentum = momentum)\n",
        "  losses = []\n",
        "  model.train()\n",
        "  loss = 999\n",
        "  losses.append(loss)\n",
        "  epoch = 0\n",
        "  while loss > error:\n",
        "    optimizer.zero_grad()\n",
        "    for batch in range(math.floor(x_train.shape[0] / batch_size)):\n",
        "      \n",
        "      x_batch = x_train[batch*batch_size:batch*batch_size + batch_size, :]\n",
        "      y_batch = y_train[batch*batch_size:batch*batch_size + batch_size]\n",
        "      x_batch = x_batch.to(device)\n",
        "      y_batch = y_batch.to(device)\n",
        "      \n",
        "      \n",
        "      # Forward pass\n",
        "      y_pred = model(x_batch)\n",
        "      # Compute Loss\n",
        "      loss = criterion(y_pred.squeeze(), y_batch)\n",
        "      losses.append(loss)\n",
        "      if epoch % 1000 == 0:\n",
        "          print('Epoch {}: train loss: {}'.format(epoch, loss.item()))\n",
        "      # Backward pass\n",
        "      loss.backward()\n",
        "      optimizer.step()\n",
        "      epoch += 1\n",
        "\n",
        "  print('**************************')\n",
        "  model.eval()\n",
        "  y_pred = model(x_test[0:batch_size, :].to(device))\n",
        "  after_train = criterion(y_pred.squeeze(), y_test[0:batch_size].to(device).squeeze()) \n",
        "  print('Test loss after Training' , after_train.item())\n",
        "\n",
        "  r_square = r2_score(y_test[0:batch_size, :], y_pred.cpu().detach().numpy().squeeze())\n",
        "  print('R^2 '+ str(r_square))\n",
        "\n",
        "  return losses\n",
        "\n"
      ],
      "execution_count": 0,
      "outputs": []
    },
    {
      "cell_type": "code",
      "metadata": {
        "id": "N2tmn4S753i_",
        "colab_type": "code",
        "colab": {}
      },
      "source": [
        "import random\n",
        "def adamWerror(inputs, hidden_nodes, x_train, y_train, x_test, y_test, batch_size, error):\n",
        "  model = Feedforward(inputs, hidden_nodes)\n",
        "  model.to(device)\n",
        "  model.apply(init_weights)\n",
        "  criterion = torch.nn.MSELoss()\n",
        "  optimizer = torch.optim.Adam(model.parameters())\n",
        "\n",
        "  model.train()\n",
        "  \n",
        "  losses = []\n",
        "  loss = 999;\n",
        "  losses.append(loss)\n",
        "  epoch = 0\n",
        "  while loss > error:\n",
        "#     optimizer.zero_grad()\n",
        "    for batch in range(math.floor(x_train.shape[0] / batch_size)): \n",
        "      optimizer.zero_grad()\n",
        "      batch_i = random.randint(1,math.floor(x_train.shape[0] / batch_size))\n",
        "      x_batch = x_train[batch_i*batch_size:batch_i*batch_size + batch_size, :]\n",
        "      y_batch = y_train[batch_i*batch_size:batch_i*batch_size + batch_size, :]\n",
        "      x_batch = x_batch.to(device)\n",
        "      y_batch = y_batch.to(device)\n",
        "\n",
        "      # Forward pass\n",
        "      y_pred = model(x_batch)\n",
        "      # Compute Loss\n",
        "      loss = criterion(y_pred.squeeze(), y_batch.squeeze())\n",
        "\n",
        "      if epoch % 1000 == 0:\n",
        "          print('Epoch {}: train loss: {}'.format(epoch, loss.item()))\n",
        "\n",
        "      losses.append(loss)\n",
        "      # Backward pass\n",
        "      epoch += 1\n",
        "      loss.backward()\n",
        "      optimizer.step()\n",
        "#     optimizer.step()\n",
        "#     loss.backward()\n",
        "    \n",
        "  print('**************************')\n",
        "  model.eval()\n",
        "  y_pred = model(x_test.to(device))\n",
        "  after_train = criterion(y_pred.squeeze(), y_test.to(device).squeeze()) \n",
        "  print('Test loss after Training' , after_train.item())\n",
        "\n",
        "  r_square = r2_score(y_test, y_pred.cpu().detach().numpy().squeeze())\n",
        "  print('R^2 '+ str(r_square))\n",
        "\n",
        "  checkpoint = {'model': Feedforward(inputs, hidden_nodes),\n",
        "          'state_dict': model.state_dict(),\n",
        "          'optimizer' : optimizer.state_dict()}\n",
        "\n",
        "  torch.save(checkpoint, 'p1.pt')\n",
        "\n",
        "  return losses"
      ],
      "execution_count": 0,
      "outputs": []
    },
    {
      "cell_type": "code",
      "metadata": {
        "id": "EwMO0TlV6kZ9",
        "colab_type": "code",
        "colab": {}
      },
      "source": [
        "losses = sgdWerror(6,6, 0.3, 0.9, x_train, y_train, x_test, y_test, 512, 0.00001)\n",
        "print(losses[-1])"
      ],
      "execution_count": 0,
      "outputs": []
    },
    {
      "cell_type": "code",
      "metadata": {
        "id": "E5eaLiXW903v",
        "colab_type": "code",
        "colab": {
          "base_uri": "https://localhost:8080/",
          "height": 986
        },
        "outputId": "5a332270-961b-424a-cf53-3729674e2981"
      },
      "source": [
        "losses = adamWerror(6,6, x_train, y_train, x_test, y_test, 2056, 0.0014)\n",
        "print(losses[-1])"
      ],
      "execution_count": 22,
      "outputs": [
        {
          "output_type": "stream",
          "text": [
            "/usr/local/lib/python3.6/dist-packages/ipykernel_launcher.py:32: UserWarning: nn.init.xavier_uniform is now deprecated in favor of nn.init.xavier_uniform_.\n"
          ],
          "name": "stderr"
        },
        {
          "output_type": "stream",
          "text": [
            "Epoch 0: train loss: 0.07972773164510727\n",
            "Epoch 1000: train loss: 0.025455884635448456\n",
            "Epoch 2000: train loss: 0.02128077857196331\n",
            "Epoch 3000: train loss: 0.011205225251615047\n",
            "Epoch 4000: train loss: 0.007579815108329058\n",
            "Epoch 5000: train loss: 0.0062066009268164635\n",
            "Epoch 6000: train loss: 0.004431871697306633\n",
            "Epoch 7000: train loss: 0.004195617977529764\n",
            "Epoch 8000: train loss: 0.0043788691982626915\n",
            "Epoch 9000: train loss: 0.003425569273531437\n",
            "Epoch 10000: train loss: 0.0036073396913707256\n",
            "Epoch 11000: train loss: 0.0035184891894459724\n",
            "Epoch 12000: train loss: 0.0033734238240867853\n",
            "Epoch 13000: train loss: 0.004038219340145588\n",
            "Epoch 14000: train loss: 0.003050536150112748\n",
            "Epoch 15000: train loss: 0.0033476375974714756\n",
            "Epoch 16000: train loss: 0.00362728675827384\n",
            "Epoch 17000: train loss: 0.002892886521294713\n",
            "Epoch 18000: train loss: 0.002659054473042488\n",
            "Epoch 19000: train loss: 0.0024790747556835413\n",
            "Epoch 20000: train loss: 0.00280762929469347\n",
            "Epoch 21000: train loss: 0.002062754239886999\n",
            "Epoch 22000: train loss: 0.0026742136105895042\n",
            "Epoch 23000: train loss: 0.0024808153975754976\n",
            "Epoch 24000: train loss: 0.002600679872557521\n",
            "Epoch 25000: train loss: 0.0018316592322662473\n",
            "Epoch 26000: train loss: 0.0027678865008056164\n",
            "Epoch 27000: train loss: 0.0022614176850765944\n",
            "Epoch 28000: train loss: 0.0026660296134650707\n",
            "Epoch 29000: train loss: 0.0028128449339419603\n",
            "Epoch 30000: train loss: 0.0024885572493076324\n",
            "Epoch 31000: train loss: 0.0021769339218735695\n",
            "Epoch 32000: train loss: 0.0025213477201759815\n",
            "Epoch 33000: train loss: 0.0031446616631001234\n",
            "Epoch 34000: train loss: 0.002480926224961877\n",
            "Epoch 35000: train loss: 0.0026379888877272606\n",
            "Epoch 36000: train loss: 0.0019348975038155913\n",
            "Epoch 37000: train loss: 0.0031805201433598995\n",
            "Epoch 38000: train loss: 0.0019214284839108586\n",
            "Epoch 39000: train loss: 0.0024109261576086283\n",
            "Epoch 40000: train loss: 0.0024980823509395123\n",
            "Epoch 41000: train loss: 0.001888924976810813\n",
            "Epoch 42000: train loss: 0.0019041906343773007\n",
            "Epoch 43000: train loss: 0.0017772417049854994\n",
            "Epoch 44000: train loss: 0.0021280546206980944\n",
            "Epoch 45000: train loss: 0.0016374210827052593\n",
            "Epoch 46000: train loss: 0.0015113200061023235\n",
            "Epoch 47000: train loss: 0.001658244407735765\n",
            "Epoch 48000: train loss: 0.0023651502560824156\n",
            "Epoch 49000: train loss: 0.0017038412624970078\n",
            "**************************\n",
            "Test loss after Training 0.0028714321088045835\n",
            "R^2 0.9565564123091246\n"
          ],
          "name": "stdout"
        },
        {
          "output_type": "stream",
          "text": [
            "/usr/local/lib/python3.6/dist-packages/torch/serialization.py:256: UserWarning: Couldn't retrieve source code for container of type Feedforward. It won't be checked for correctness upon loading.\n",
            "  \"type \" + obj.__name__ + \". It won't be checked \"\n"
          ],
          "name": "stderr"
        },
        {
          "output_type": "stream",
          "text": [
            "tensor(0.0014, grad_fn=<MseLossBackward>)\n"
          ],
          "name": "stdout"
        }
      ]
    }
  ]
}