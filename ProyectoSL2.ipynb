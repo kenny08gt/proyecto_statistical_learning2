{
  "nbformat": 4,
  "nbformat_minor": 0,
  "metadata": {
    "colab": {
      "name": "ProyectoSL2.ipynb",
      "provenance": [],
      "collapsed_sections": [],
      "include_colab_link": true
    },
    "kernelspec": {
      "name": "python3",
      "display_name": "Python 3"
    },
    "accelerator": "GPU"
  },
  "cells": [
    {
      "cell_type": "markdown",
      "metadata": {
        "id": "view-in-github",
        "colab_type": "text"
      },
      "source": [
        "<a href=\"https://colab.research.google.com/github/kenny08gt/proyecto_statistical_learning2/blob/master/ProyectoSL2.ipynb\" target=\"_parent\"><img src=\"https://colab.research.google.com/assets/colab-badge.svg\" alt=\"Open In Colab\"/></a>"
      ]
    },
    {
      "cell_type": "code",
      "metadata": {
        "id": "U-Pygh--QkZT",
        "colab_type": "code",
        "colab": {
          "base_uri": "https://localhost:8080/",
          "height": 402
        },
        "outputId": "af6db495-5e67-44c4-868a-ba23407f17b6"
      },
      "source": [
        "import numpy as np\n",
        "import pandas as pd\n",
        "import matplotlib.pyplot as plt\n",
        "import matplotlib\n",
        "import seaborn as sns\n",
        "import torch.nn as nn\n",
        "import torch.nn.functional as F\n",
        "import torch\n",
        "\n",
        "%reload_ext autoreload\n",
        "%autoreload 2\n",
        "%matplotlib inline\n",
        "\n",
        "from google.colab import drive\n",
        "drive.mount('/content/drive')\n",
        "\n",
        "data = pd.read_csv('/content/drive/My Drive/statistical learning 2/Proyecto/pmsm_temperature_data.csv')\n",
        "data.describe()"
      ],
      "execution_count": 1,
      "outputs": [
        {
          "output_type": "stream",
          "text": [
            "Go to this URL in a browser: https://accounts.google.com/o/oauth2/auth?client_id=947318989803-6bn6qk8qdgf4n4g3pfee6491hc0brc4i.apps.googleusercontent.com&redirect_uri=urn%3Aietf%3Awg%3Aoauth%3A2.0%3Aoob&scope=email%20https%3A%2F%2Fwww.googleapis.com%2Fauth%2Fdocs.test%20https%3A%2F%2Fwww.googleapis.com%2Fauth%2Fdrive%20https%3A%2F%2Fwww.googleapis.com%2Fauth%2Fdrive.photos.readonly%20https%3A%2F%2Fwww.googleapis.com%2Fauth%2Fpeopleapi.readonly&response_type=code\n",
            "\n",
            "Enter your authorization code:\n",
            "··········\n",
            "Mounted at /content/drive\n"
          ],
          "name": "stdout"
        },
        {
          "output_type": "execute_result",
          "data": {
            "text/html": [
              "<div>\n",
              "<style scoped>\n",
              "    .dataframe tbody tr th:only-of-type {\n",
              "        vertical-align: middle;\n",
              "    }\n",
              "\n",
              "    .dataframe tbody tr th {\n",
              "        vertical-align: top;\n",
              "    }\n",
              "\n",
              "    .dataframe thead th {\n",
              "        text-align: right;\n",
              "    }\n",
              "</style>\n",
              "<table border=\"1\" class=\"dataframe\">\n",
              "  <thead>\n",
              "    <tr style=\"text-align: right;\">\n",
              "      <th></th>\n",
              "      <th>ambient</th>\n",
              "      <th>coolant</th>\n",
              "      <th>u_d</th>\n",
              "      <th>u_q</th>\n",
              "      <th>motor_speed</th>\n",
              "      <th>torque</th>\n",
              "      <th>i_d</th>\n",
              "      <th>i_q</th>\n",
              "      <th>pm</th>\n",
              "      <th>stator_yoke</th>\n",
              "      <th>stator_tooth</th>\n",
              "      <th>stator_winding</th>\n",
              "      <th>profile_id</th>\n",
              "    </tr>\n",
              "  </thead>\n",
              "  <tbody>\n",
              "    <tr>\n",
              "      <th>count</th>\n",
              "      <td>998070.000000</td>\n",
              "      <td>998070.000000</td>\n",
              "      <td>998070.000000</td>\n",
              "      <td>998070.000000</td>\n",
              "      <td>998070.000000</td>\n",
              "      <td>998070.000000</td>\n",
              "      <td>998070.000000</td>\n",
              "      <td>998070.000000</td>\n",
              "      <td>998070.000000</td>\n",
              "      <td>998070.000000</td>\n",
              "      <td>998070.000000</td>\n",
              "      <td>998070.000000</td>\n",
              "      <td>998070.000000</td>\n",
              "    </tr>\n",
              "    <tr>\n",
              "      <th>mean</th>\n",
              "      <td>-0.003905</td>\n",
              "      <td>0.004723</td>\n",
              "      <td>0.004780</td>\n",
              "      <td>-0.005690</td>\n",
              "      <td>-0.006336</td>\n",
              "      <td>-0.003333</td>\n",
              "      <td>0.006043</td>\n",
              "      <td>-0.003194</td>\n",
              "      <td>-0.004396</td>\n",
              "      <td>0.000609</td>\n",
              "      <td>-0.002208</td>\n",
              "      <td>-0.003935</td>\n",
              "      <td>50.732001</td>\n",
              "    </tr>\n",
              "    <tr>\n",
              "      <th>std</th>\n",
              "      <td>0.993127</td>\n",
              "      <td>1.002423</td>\n",
              "      <td>0.997878</td>\n",
              "      <td>1.002330</td>\n",
              "      <td>1.001229</td>\n",
              "      <td>0.997907</td>\n",
              "      <td>0.998994</td>\n",
              "      <td>0.997912</td>\n",
              "      <td>0.995686</td>\n",
              "      <td>1.001049</td>\n",
              "      <td>0.999597</td>\n",
              "      <td>0.998343</td>\n",
              "      <td>22.073125</td>\n",
              "    </tr>\n",
              "    <tr>\n",
              "      <th>min</th>\n",
              "      <td>-8.573954</td>\n",
              "      <td>-1.429349</td>\n",
              "      <td>-1.655373</td>\n",
              "      <td>-1.861463</td>\n",
              "      <td>-1.371529</td>\n",
              "      <td>-3.345953</td>\n",
              "      <td>-3.245874</td>\n",
              "      <td>-3.341639</td>\n",
              "      <td>-2.631991</td>\n",
              "      <td>-1.834688</td>\n",
              "      <td>-2.066143</td>\n",
              "      <td>-2.019973</td>\n",
              "      <td>4.000000</td>\n",
              "    </tr>\n",
              "    <tr>\n",
              "      <th>25%</th>\n",
              "      <td>-0.599385</td>\n",
              "      <td>-1.037925</td>\n",
              "      <td>-0.826359</td>\n",
              "      <td>-0.927390</td>\n",
              "      <td>-0.951892</td>\n",
              "      <td>-0.266917</td>\n",
              "      <td>-0.756296</td>\n",
              "      <td>-0.257269</td>\n",
              "      <td>-0.672308</td>\n",
              "      <td>-0.747265</td>\n",
              "      <td>-0.761951</td>\n",
              "      <td>-0.725622</td>\n",
              "      <td>32.000000</td>\n",
              "    </tr>\n",
              "    <tr>\n",
              "      <th>50%</th>\n",
              "      <td>0.266157</td>\n",
              "      <td>-0.177187</td>\n",
              "      <td>0.267542</td>\n",
              "      <td>-0.099818</td>\n",
              "      <td>-0.140246</td>\n",
              "      <td>-0.187246</td>\n",
              "      <td>0.213935</td>\n",
              "      <td>-0.190076</td>\n",
              "      <td>0.094367</td>\n",
              "      <td>-0.057226</td>\n",
              "      <td>0.005085</td>\n",
              "      <td>0.006536</td>\n",
              "      <td>56.000000</td>\n",
              "    </tr>\n",
              "    <tr>\n",
              "      <th>75%</th>\n",
              "      <td>0.686675</td>\n",
              "      <td>0.650709</td>\n",
              "      <td>0.358491</td>\n",
              "      <td>0.852625</td>\n",
              "      <td>0.853584</td>\n",
              "      <td>0.547171</td>\n",
              "      <td>1.013975</td>\n",
              "      <td>0.499260</td>\n",
              "      <td>0.680691</td>\n",
              "      <td>0.697344</td>\n",
              "      <td>0.772239</td>\n",
              "      <td>0.725660</td>\n",
              "      <td>68.000000</td>\n",
              "    </tr>\n",
              "    <tr>\n",
              "      <th>max</th>\n",
              "      <td>2.967117</td>\n",
              "      <td>2.649032</td>\n",
              "      <td>2.274734</td>\n",
              "      <td>1.793498</td>\n",
              "      <td>2.024164</td>\n",
              "      <td>3.016971</td>\n",
              "      <td>1.060937</td>\n",
              "      <td>2.914185</td>\n",
              "      <td>2.917456</td>\n",
              "      <td>2.449158</td>\n",
              "      <td>2.326668</td>\n",
              "      <td>2.653781</td>\n",
              "      <td>81.000000</td>\n",
              "    </tr>\n",
              "  </tbody>\n",
              "</table>\n",
              "</div>"
            ],
            "text/plain": [
              "             ambient        coolant  ...  stator_winding     profile_id\n",
              "count  998070.000000  998070.000000  ...   998070.000000  998070.000000\n",
              "mean       -0.003905       0.004723  ...       -0.003935      50.732001\n",
              "std         0.993127       1.002423  ...        0.998343      22.073125\n",
              "min        -8.573954      -1.429349  ...       -2.019973       4.000000\n",
              "25%        -0.599385      -1.037925  ...       -0.725622      32.000000\n",
              "50%         0.266157      -0.177187  ...        0.006536      56.000000\n",
              "75%         0.686675       0.650709  ...        0.725660      68.000000\n",
              "max         2.967117       2.649032  ...        2.653781      81.000000\n",
              "\n",
              "[8 rows x 13 columns]"
            ]
          },
          "metadata": {
            "tags": []
          },
          "execution_count": 1
        }
      ]
    },
    {
      "cell_type": "markdown",
      "metadata": {
        "id": "hfrbwT94KWp8",
        "colab_type": "text"
      },
      "source": [
        "* **ambient**: Ambient temperature as measured by a thermal sensor located closely to the stator.\n",
        "* **coolant**: Coolant temperature. The motor is water cooled. Measurement is taken at outflow.\n",
        "* **u_d**: Voltage d-component\n",
        "* **u_q**: Voltage q-component\n",
        "* **motor_speed**: Motor speed\n",
        "* **torque**: Torque induced by current.\n",
        "* **i_d**: Current d-component\n",
        "* **i_q**: Current q-component\n",
        "* **pm**: Permanent Magnet surface temperature representing the rotor temperature. This was measured with an infrared thermography unit.\n",
        "* **stator_yoke**: Stator yoke temperature measured with a thermal sensor.\n",
        "* **stator_tooth**: Stator tooth temperature measured with a thermal sensor.\n",
        "* **stator_winding**: Stator winding temperature measured with a thermal sensor.\n",
        "* **profile_id**:  Each measurement session has a unique ID. Make sure not to try to estimate from one session onto the other as they are strongly independent."
      ]
    },
    {
      "cell_type": "code",
      "metadata": {
        "id": "Wa39pEArKXaC",
        "colab_type": "code",
        "colab": {
          "base_uri": "https://localhost:8080/",
          "height": 34
        },
        "outputId": "b8ba753f-a8d0-464a-896a-d550d1e83229"
      },
      "source": [
        "nans=pd.isnull(data).sum()\n",
        "nans[nans>0]"
      ],
      "execution_count": 2,
      "outputs": [
        {
          "output_type": "execute_result",
          "data": {
            "text/plain": [
              "Series([], dtype: int64)"
            ]
          },
          "metadata": {
            "tags": []
          },
          "execution_count": 2
        }
      ]
    },
    {
      "cell_type": "code",
      "metadata": {
        "id": "fZTG-sYbKaCR",
        "colab_type": "code",
        "colab": {
          "base_uri": "https://localhost:8080/",
          "height": 709
        },
        "outputId": "427c7f1a-6690-4f97-8e51-abfcb4385bb2"
      },
      "source": [
        "#correlation map\n",
        "f,ax=plt.subplots(figsize=(12,12))\n",
        "corr=data.corr()\n",
        "\n",
        "sns.heatmap(corr, annot=True, linewidths=.5, fmt='.2f', mask= np.zeros_like(corr,dtype=np.bool), cmap=sns.diverging_palette(100,200,as_cmap=True), \n",
        "            square=True, ax=ax)\n",
        "\n",
        "plt.show()"
      ],
      "execution_count": 3,
      "outputs": [
        {
          "output_type": "display_data",
          "data": {
            "image/png": "[encoded data removed]",
            "text/plain": [
              "<Figure size 864x864 with 2 Axes>"
            ]
          },
          "metadata": {
            "tags": []
          }
        }
      ]
    },
    {
      "cell_type": "code",
      "metadata": {
        "id": "m1jxb9b7KZ_C",
        "colab_type": "code",
        "colab": {
          "base_uri": "https://localhost:8080/",
          "height": 224
        },
        "outputId": "fe81f726-a760-4c1f-86dd-814d02cab9f2"
      },
      "source": [
        "data = data.drop(columns=['profile_id'])\n",
        "data.head()"
      ],
      "execution_count": 4,
      "outputs": [
        {
          "output_type": "execute_result",
          "data": {
            "text/html": [
              "<div>\n",
              "<style scoped>\n",
              "    .dataframe tbody tr th:only-of-type {\n",
              "        vertical-align: middle;\n",
              "    }\n",
              "\n",
              "    .dataframe tbody tr th {\n",
              "        vertical-align: top;\n",
              "    }\n",
              "\n",
              "    .dataframe thead th {\n",
              "        text-align: right;\n",
              "    }\n",
              "</style>\n",
              "<table border=\"1\" class=\"dataframe\">\n",
              "  <thead>\n",
              "    <tr style=\"text-align: right;\">\n",
              "      <th></th>\n",
              "      <th>ambient</th>\n",
              "      <th>coolant</th>\n",
              "      <th>u_d</th>\n",
              "      <th>u_q</th>\n",
              "      <th>motor_speed</th>\n",
              "      <th>torque</th>\n",
              "      <th>i_d</th>\n",
              "      <th>i_q</th>\n",
              "      <th>pm</th>\n",
              "      <th>stator_yoke</th>\n",
              "      <th>stator_tooth</th>\n",
              "      <th>stator_winding</th>\n",
              "    </tr>\n",
              "  </thead>\n",
              "  <tbody>\n",
              "    <tr>\n",
              "      <th>0</th>\n",
              "      <td>-0.752143</td>\n",
              "      <td>-1.118446</td>\n",
              "      <td>0.327935</td>\n",
              "      <td>-1.297858</td>\n",
              "      <td>-1.222428</td>\n",
              "      <td>-0.250182</td>\n",
              "      <td>1.029572</td>\n",
              "      <td>-0.245860</td>\n",
              "      <td>-2.522071</td>\n",
              "      <td>-1.831422</td>\n",
              "      <td>-2.066143</td>\n",
              "      <td>-2.018033</td>\n",
              "    </tr>\n",
              "    <tr>\n",
              "      <th>1</th>\n",
              "      <td>-0.771263</td>\n",
              "      <td>-1.117021</td>\n",
              "      <td>0.329665</td>\n",
              "      <td>-1.297686</td>\n",
              "      <td>-1.222429</td>\n",
              "      <td>-0.249133</td>\n",
              "      <td>1.029509</td>\n",
              "      <td>-0.245832</td>\n",
              "      <td>-2.522418</td>\n",
              "      <td>-1.830969</td>\n",
              "      <td>-2.064859</td>\n",
              "      <td>-2.017631</td>\n",
              "    </tr>\n",
              "    <tr>\n",
              "      <th>2</th>\n",
              "      <td>-0.782892</td>\n",
              "      <td>-1.116681</td>\n",
              "      <td>0.332771</td>\n",
              "      <td>-1.301822</td>\n",
              "      <td>-1.222428</td>\n",
              "      <td>-0.249431</td>\n",
              "      <td>1.029448</td>\n",
              "      <td>-0.245818</td>\n",
              "      <td>-2.522673</td>\n",
              "      <td>-1.830400</td>\n",
              "      <td>-2.064073</td>\n",
              "      <td>-2.017343</td>\n",
              "    </tr>\n",
              "    <tr>\n",
              "      <th>3</th>\n",
              "      <td>-0.780935</td>\n",
              "      <td>-1.116764</td>\n",
              "      <td>0.333700</td>\n",
              "      <td>-1.301852</td>\n",
              "      <td>-1.222430</td>\n",
              "      <td>-0.248636</td>\n",
              "      <td>1.032845</td>\n",
              "      <td>-0.246955</td>\n",
              "      <td>-2.521639</td>\n",
              "      <td>-1.830333</td>\n",
              "      <td>-2.063137</td>\n",
              "      <td>-2.017632</td>\n",
              "    </tr>\n",
              "    <tr>\n",
              "      <th>4</th>\n",
              "      <td>-0.774043</td>\n",
              "      <td>-1.116775</td>\n",
              "      <td>0.335206</td>\n",
              "      <td>-1.303118</td>\n",
              "      <td>-1.222429</td>\n",
              "      <td>-0.248701</td>\n",
              "      <td>1.031807</td>\n",
              "      <td>-0.246610</td>\n",
              "      <td>-2.521900</td>\n",
              "      <td>-1.830498</td>\n",
              "      <td>-2.062795</td>\n",
              "      <td>-2.018145</td>\n",
              "    </tr>\n",
              "  </tbody>\n",
              "</table>\n",
              "</div>"
            ],
            "text/plain": [
              "    ambient   coolant       u_d  ...  stator_yoke  stator_tooth  stator_winding\n",
              "0 -0.752143 -1.118446  0.327935  ...    -1.831422     -2.066143       -2.018033\n",
              "1 -0.771263 -1.117021  0.329665  ...    -1.830969     -2.064859       -2.017631\n",
              "2 -0.782892 -1.116681  0.332771  ...    -1.830400     -2.064073       -2.017343\n",
              "3 -0.780935 -1.116764  0.333700  ...    -1.830333     -2.063137       -2.017632\n",
              "4 -0.774043 -1.116775  0.335206  ...    -1.830498     -2.062795       -2.018145\n",
              "\n",
              "[5 rows x 12 columns]"
            ]
          },
          "metadata": {
            "tags": []
          },
          "execution_count": 4
        }
      ]
    },
    {
      "cell_type": "code",
      "metadata": {
        "id": "TuSkKmMFKZ8P",
        "colab_type": "code",
        "colab": {}
      },
      "source": [
        "from sklearn.model_selection import train_test_split\n",
        "from sklearn.metrics import r2_score\n",
        "x = data[['stator_yoke','stator_tooth', 'stator_winding', 'coolant', 'ambient']].to_numpy()\n",
        "y = data['pm'].to_numpy()\n",
        "xTrain, xTest, yTrain, yTest = train_test_split(x, y, test_size = 0.3, random_state = 345)\n",
        "\n",
        "x_train = torch.FloatTensor(xTrain).cuda()\n",
        "y_train = torch.FloatTensor(yTrain).cuda()\n",
        "x_test = torch.FloatTensor(xTest).cuda()\n",
        "y_test = torch.FloatTensor(yTest).cuda()"
      ],
      "execution_count": 0,
      "outputs": []
    },
    {
      "cell_type": "code",
      "metadata": {
        "id": "GZ_Cp60MKZ5K",
        "colab_type": "code",
        "colab": {}
      },
      "source": [
        "class Feedforward(torch.nn.Module):\n",
        "  def __init__(self, input_size, hidden_size):\n",
        "    super(Feedforward, self).__init__()\n",
        "    self.input_size = input_size\n",
        "    self.hidden_size  = hidden_size\n",
        "    self.fc1 = torch.nn.Linear(self.input_size, self.hidden_size)\n",
        "    self.relu = torch.nn.ReLU()\n",
        "    self.fc2 = torch.nn.Linear(self.hidden_size, self.hidden_size - 2)\n",
        "    self.fc3 = torch.nn.Linear(self.hidden_size - 2, 1)\n",
        "    self.sigmoid = torch.nn.Sigmoid()\n",
        "  def forward(self, x):\n",
        "    hidden = self.fc1(x)\n",
        "    relu = self.relu(hidden)\n",
        "    hidden2 = self.fc2(relu)\n",
        "    relu2 = self.relu(hidden2)\n",
        "    output =self.fc3(relu2)\n",
        "    output = self.sigmoid(output)\n",
        "    return output"
      ],
      "execution_count": 0,
      "outputs": []
    },
    {
      "cell_type": "code",
      "metadata": {
        "id": "eUEY0ajfMEVW",
        "colab_type": "code",
        "colab": {}
      },
      "source": [
        "# # print(torch.cuda.is_available())\n",
        "\n",
        "# def get_default_device():\n",
        "#   if torch.cuda.is_available():\n",
        "#     return torch.device('cuda')\n",
        "#   else:\n",
        "#     return torch.device('cpu')\n",
        "# def to_device(data, device):\n",
        "#   if isinstance(data, (list, tuple)):\n",
        "#     return [to_device(x, device) for x in data]\n",
        "#   return data.to(device, non_blocking = True)\n",
        "\n",
        "# class DeviceDataLoader():\n",
        "#   def __init__(self, dl, device):\n",
        "#     self.shape = dl.shape\n",
        "#     self.dl = dl\n",
        "#     self.device = device\n",
        "    \n",
        "#   def __iter__(self):\n",
        "#     for b in self.dl:\n",
        "#       yield to_device(b, self.device)\n",
        "\n",
        "      \n",
        "#   def __len__(self):\n",
        "#     return len(self.dl)\n",
        "  \n",
        "#   def __dim__(self):\n",
        "#     return self.shape\n",
        "  \n",
        "#   def dim(self):\n",
        "#     print(self.dl)\n",
        "#     return self.shape\n",
        "\n",
        "# device = get_default_device()\n",
        "\n",
        "# x_train = DeviceDataLoader(x_train, device);\n",
        "# y_train = DeviceDataLoader(y_train, device);\n",
        "# x_test = DeviceDataLoader(x_test, device);\n",
        "# y_test = DeviceDataLoader(y_test, device);"
      ],
      "execution_count": 0,
      "outputs": []
    },
    {
      "cell_type": "code",
      "metadata": {
        "id": "ymG5sIYhKZ2d",
        "colab_type": "code",
        "colab": {
          "base_uri": "https://localhost:8080/",
          "height": 833
        },
        "outputId": "f3da97ee-3460-424a-dfbe-7723e427c6ed"
      },
      "source": [
        "model = Feedforward(5, 20)\n",
        "model.cuda()\n",
        "criterion = torch.nn.MSELoss()\n",
        "optimizer = torch.optim.SGD(model.parameters(), lr = 0.5)\n",
        "\n",
        "model.train()\n",
        "epoch = 20000\n",
        "for epoch in range(epoch):\n",
        "  optimizer.zero_grad()\n",
        "  # Forward pass\n",
        "  y_pred = model(x_train)\n",
        "  # Compute Loss\n",
        "  loss = criterion(y_pred.squeeze(), y_train)\n",
        "\n",
        "  if epoch % 100 == 0:\n",
        "      print('Epoch {}: train loss: {}'.format(epoch, loss.item()))\n",
        "  # Backward pass\n",
        "  loss.backward()\n",
        "  optimizer.step()\n",
        "    \n",
        "print('**************************')\n",
        "model.eval()\n",
        "y_pred = model(x_test)\n",
        "after_train = criterion(y_pred.squeeze(), y_test) \n",
        "print('Test loss after Training' , after_train.item())\n",
        "\n",
        "r_square = r2_score(y_test, y_pred.detach().numpy().squeeze())\n",
        "print('R^2 '+ str(r_square))"
      ],
      "execution_count": 0,
      "outputs": [
        {
          "output_type": "stream",
          "text": [
            "Epoch 0: train loss: 1.3336321115493774\n",
            "Epoch 100: train loss: 0.7479813694953918\n",
            "Epoch 200: train loss: 0.713636040687561\n",
            "Epoch 300: train loss: 0.7061668634414673\n",
            "Epoch 400: train loss: 0.70316082239151\n",
            "Epoch 500: train loss: 0.7011402249336243\n",
            "Epoch 600: train loss: 0.6994255781173706\n",
            "Epoch 700: train loss: 0.6978166699409485\n",
            "Epoch 800: train loss: 0.6962572336196899\n",
            "Epoch 900: train loss: 0.6947082877159119\n",
            "Epoch 1000: train loss: 0.6931437253952026\n",
            "Epoch 1100: train loss: 0.6915406584739685\n",
            "Epoch 1200: train loss: 0.6898753643035889\n",
            "Epoch 1300: train loss: 0.6881504654884338\n",
            "Epoch 1400: train loss: 0.6863749623298645\n",
            "Epoch 1500: train loss: 0.684539258480072\n",
            "Epoch 1600: train loss: 0.6826427578926086\n",
            "Epoch 1700: train loss: 0.6806790232658386\n",
            "Epoch 1800: train loss: 0.6787664294242859\n",
            "Epoch 1900: train loss: 0.6769595146179199\n",
            "Epoch 2000: train loss: 0.6752702593803406\n",
            "Epoch 2100: train loss: 0.67372065782547\n",
            "Epoch 2200: train loss: 0.6723264455795288\n",
            "Epoch 2300: train loss: 0.6710829138755798\n",
            "Epoch 2400: train loss: 0.6699801087379456\n",
            "Epoch 2500: train loss: 0.6689956188201904\n",
            "Epoch 2600: train loss: 0.6681268811225891\n",
            "Epoch 2700: train loss: 0.6673533320426941\n",
            "Epoch 2800: train loss: 0.6666654944419861\n",
            "Epoch 2900: train loss: 0.6660511493682861\n",
            "Epoch 3000: train loss: 0.6654956340789795\n",
            "Epoch 3100: train loss: 0.6649927496910095\n",
            "Epoch 3200: train loss: 0.6645342111587524\n",
            "Epoch 3300: train loss: 0.6641152501106262\n",
            "Epoch 3400: train loss: 0.6637299656867981\n",
            "Epoch 3500: train loss: 0.6633741855621338\n",
            "Epoch 3600: train loss: 0.6630441546440125\n",
            "Epoch 3700: train loss: 0.6627360582351685\n",
            "Epoch 3800: train loss: 0.6624470949172974\n",
            "Epoch 3900: train loss: 0.6621764898300171\n",
            "Epoch 4000: train loss: 0.6619230508804321\n",
            "Epoch 4100: train loss: 0.6616846323013306\n",
            "Epoch 4200: train loss: 0.6614589095115662\n",
            "Epoch 4300: train loss: 0.6612443923950195\n",
            "Epoch 4400: train loss: 0.6610406637191772\n",
            "Epoch 4500: train loss: 0.6608456969261169\n",
            "Epoch 4600: train loss: 0.660658061504364\n",
            "Epoch 4700: train loss: 0.6604763865470886\n"
          ],
          "name": "stdout"
        }
      ]
    },
    {
      "cell_type": "code",
      "metadata": {
        "id": "31uwkWPrKZzZ",
        "colab_type": "code",
        "colab": {}
      },
      "source": [
        ""
      ],
      "execution_count": 0,
      "outputs": []
    },
    {
      "cell_type": "code",
      "metadata": {
        "id": "lJ2t0rKVKZwm",
        "colab_type": "code",
        "colab": {}
      },
      "source": [
        ""
      ],
      "execution_count": 0,
      "outputs": []
    },
    {
      "cell_type": "code",
      "metadata": {
        "id": "JtJS78c4KZs1",
        "colab_type": "code",
        "colab": {}
      },
      "source": [
        ""
      ],
      "execution_count": 0,
      "outputs": []
    },
    {
      "cell_type": "code",
      "metadata": {
        "id": "MzLqymdIKZjD",
        "colab_type": "code",
        "colab": {}
      },
      "source": [
        ""
      ],
      "execution_count": 0,
      "outputs": []
    }
  ]
}